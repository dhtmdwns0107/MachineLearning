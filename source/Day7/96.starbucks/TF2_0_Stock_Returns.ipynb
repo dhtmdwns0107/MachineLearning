{
 "cells": [
  {
   "cell_type": "code",
   "execution_count": 0,
   "metadata": {
    "colab": {},
    "colab_type": "code",
    "id": "HyVGJx6wQwOR"
   },
   "outputs": [],
   "source": [
    "from tensorflow.keras.layers import Input, SimpleRNN, GRU, LSTM, Dense, GlobalMaxPool1D\n",
    "from tensorflow.keras.models import Model\n",
    "from tensorflow.keras.optimizers import SGD, Adam\n",
    "\n",
    "import numpy as np\n",
    "import pandas as pd\n",
    "import matplotlib.pyplot as plt\n",
    "from sklearn.preprocessing import StandardScaler"
   ]
  },
  {
   "cell_type": "code",
   "execution_count": 0,
   "metadata": {
    "colab": {
     "base_uri": "https://localhost:8080/",
     "height": 71,
     "resources": {
      "http://localhost:8080/nbextensions/google.colab/files.js": {
       "data": "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",
       "headers": [
        [
         "content-type",
         "application/javascript"
        ]
       ],
       "ok": true,
       "status": 200,
       "status_text": ""
      }
     }
    },
    "colab_type": "code",
    "id": "An-C2MemR7J1",
    "outputId": "454134b2-ba62-404d-af2c-ba3365f8d7b5"
   },
   "outputs": [
    {
     "data": {
      "text/html": [
       "\n",
       "     <input type=\"file\" id=\"files-c9f1d1b6-e0e3-4b82-9369-9bbd6ce7a751\" name=\"files[]\" multiple disabled />\n",
       "     <output id=\"result-c9f1d1b6-e0e3-4b82-9369-9bbd6ce7a751\">\n",
       "      Upload widget is only available when the cell has been executed in the\n",
       "      current browser session. Please rerun this cell to enable.\n",
       "      </output>\n",
       "      <script src=\"/nbextensions/google.colab/files.js\"></script> "
      ],
      "text/plain": [
       "<IPython.core.display.HTML object>"
      ]
     },
     "metadata": {
      "tags": []
     },
     "output_type": "display_data"
    },
    {
     "name": "stdout",
     "output_type": "stream",
     "text": [
      "Saving sbux.csv to sbux.csv\n"
     ]
    }
   ],
   "source": [
    "# yes, you can read dataframes from URLs!\n",
    "from google.colab import files\n",
    "uploaded = files.upload()\n"
   ]
  },
  {
   "cell_type": "code",
   "execution_count": 0,
   "metadata": {
    "colab": {
     "base_uri": "https://localhost:8080/",
     "height": 34
    },
    "colab_type": "code",
    "id": "daocLBzgVKDu",
    "outputId": "4460f303-ffbf-48b0-8cf4-b563eced0b1a"
   },
   "outputs": [
    {
     "name": "stdout",
     "output_type": "stream",
     "text": [
      "sample_data  sbux.csv\n"
     ]
    }
   ],
   "source": [
    "!ls"
   ]
  },
  {
   "cell_type": "code",
   "execution_count": 0,
   "metadata": {
    "colab": {
     "base_uri": "https://localhost:8080/",
     "height": 204
    },
    "colab_type": "code",
    "id": "mip90i1wU-Q7",
    "outputId": "57a0c5e4-0a1a-4bd4-eaec-e5c105de873f"
   },
   "outputs": [
    {
     "data": {
      "text/html": [
       "<div>\n",
       "<style scoped>\n",
       "    .dataframe tbody tr th:only-of-type {\n",
       "        vertical-align: middle;\n",
       "    }\n",
       "\n",
       "    .dataframe tbody tr th {\n",
       "        vertical-align: top;\n",
       "    }\n",
       "\n",
       "    .dataframe thead th {\n",
       "        text-align: right;\n",
       "    }\n",
       "</style>\n",
       "<table border=\"1\" class=\"dataframe\">\n",
       "  <thead>\n",
       "    <tr style=\"text-align: right;\">\n",
       "      <th></th>\n",
       "      <th>date</th>\n",
       "      <th>open</th>\n",
       "      <th>high</th>\n",
       "      <th>low</th>\n",
       "      <th>close</th>\n",
       "      <th>volume</th>\n",
       "      <th>Name</th>\n",
       "    </tr>\n",
       "  </thead>\n",
       "  <tbody>\n",
       "    <tr>\n",
       "      <th>0</th>\n",
       "      <td>2013-02-08</td>\n",
       "      <td>27.920</td>\n",
       "      <td>28.325</td>\n",
       "      <td>27.920</td>\n",
       "      <td>28.185</td>\n",
       "      <td>7146296</td>\n",
       "      <td>SBUX</td>\n",
       "    </tr>\n",
       "    <tr>\n",
       "      <th>1</th>\n",
       "      <td>2013-02-11</td>\n",
       "      <td>28.260</td>\n",
       "      <td>28.260</td>\n",
       "      <td>27.930</td>\n",
       "      <td>28.070</td>\n",
       "      <td>5457354</td>\n",
       "      <td>SBUX</td>\n",
       "    </tr>\n",
       "    <tr>\n",
       "      <th>2</th>\n",
       "      <td>2013-02-12</td>\n",
       "      <td>28.000</td>\n",
       "      <td>28.275</td>\n",
       "      <td>27.975</td>\n",
       "      <td>28.130</td>\n",
       "      <td>8665592</td>\n",
       "      <td>SBUX</td>\n",
       "    </tr>\n",
       "    <tr>\n",
       "      <th>3</th>\n",
       "      <td>2013-02-13</td>\n",
       "      <td>28.230</td>\n",
       "      <td>28.230</td>\n",
       "      <td>27.750</td>\n",
       "      <td>27.915</td>\n",
       "      <td>7022056</td>\n",
       "      <td>SBUX</td>\n",
       "    </tr>\n",
       "    <tr>\n",
       "      <th>4</th>\n",
       "      <td>2013-02-14</td>\n",
       "      <td>27.765</td>\n",
       "      <td>27.905</td>\n",
       "      <td>27.675</td>\n",
       "      <td>27.775</td>\n",
       "      <td>8899188</td>\n",
       "      <td>SBUX</td>\n",
       "    </tr>\n",
       "  </tbody>\n",
       "</table>\n",
       "</div>"
      ],
      "text/plain": [
       "         date    open    high     low   close   volume  Name\n",
       "0  2013-02-08  27.920  28.325  27.920  28.185  7146296  SBUX\n",
       "1  2013-02-11  28.260  28.260  27.930  28.070  5457354  SBUX\n",
       "2  2013-02-12  28.000  28.275  27.975  28.130  8665592  SBUX\n",
       "3  2013-02-13  28.230  28.230  27.750  27.915  7022056  SBUX\n",
       "4  2013-02-14  27.765  27.905  27.675  27.775  8899188  SBUX"
      ]
     },
     "execution_count": 6,
     "metadata": {
      "tags": []
     },
     "output_type": "execute_result"
    }
   ],
   "source": [
    "#df = pd.read_csv('https://raw.githubusercontent.com/lazyprogrammer/machine_learning_examples')\n",
    "df = pd.read_csv('sbux.csv')\n",
    "df.head()"
   ]
  },
  {
   "cell_type": "code",
   "execution_count": 0,
   "metadata": {
    "colab": {
     "base_uri": "https://localhost:8080/",
     "height": 204
    },
    "colab_type": "code",
    "id": "lF-f342-VXFh",
    "outputId": "436edb9d-8c4c-4592-c99c-8ecedd8d8ab2"
   },
   "outputs": [
    {
     "data": {
      "text/html": [
       "<div>\n",
       "<style scoped>\n",
       "    .dataframe tbody tr th:only-of-type {\n",
       "        vertical-align: middle;\n",
       "    }\n",
       "\n",
       "    .dataframe tbody tr th {\n",
       "        vertical-align: top;\n",
       "    }\n",
       "\n",
       "    .dataframe thead th {\n",
       "        text-align: right;\n",
       "    }\n",
       "</style>\n",
       "<table border=\"1\" class=\"dataframe\">\n",
       "  <thead>\n",
       "    <tr style=\"text-align: right;\">\n",
       "      <th></th>\n",
       "      <th>date</th>\n",
       "      <th>open</th>\n",
       "      <th>high</th>\n",
       "      <th>low</th>\n",
       "      <th>close</th>\n",
       "      <th>volume</th>\n",
       "      <th>Name</th>\n",
       "      <th>PrevClose</th>\n",
       "      <th>Return</th>\n",
       "    </tr>\n",
       "  </thead>\n",
       "  <tbody>\n",
       "    <tr>\n",
       "      <th>1254</th>\n",
       "      <td>2018-02-01</td>\n",
       "      <td>56.280</td>\n",
       "      <td>56.42</td>\n",
       "      <td>55.89</td>\n",
       "      <td>56.00</td>\n",
       "      <td>14690146</td>\n",
       "      <td>SBUX</td>\n",
       "      <td>56.81</td>\n",
       "      <td>-0.014258</td>\n",
       "    </tr>\n",
       "    <tr>\n",
       "      <th>1255</th>\n",
       "      <td>2018-02-02</td>\n",
       "      <td>55.900</td>\n",
       "      <td>56.32</td>\n",
       "      <td>55.70</td>\n",
       "      <td>55.77</td>\n",
       "      <td>15358909</td>\n",
       "      <td>SBUX</td>\n",
       "      <td>56.00</td>\n",
       "      <td>-0.004107</td>\n",
       "    </tr>\n",
       "    <tr>\n",
       "      <th>1256</th>\n",
       "      <td>2018-02-05</td>\n",
       "      <td>55.530</td>\n",
       "      <td>56.26</td>\n",
       "      <td>54.57</td>\n",
       "      <td>54.69</td>\n",
       "      <td>16059955</td>\n",
       "      <td>SBUX</td>\n",
       "      <td>55.77</td>\n",
       "      <td>-0.019365</td>\n",
       "    </tr>\n",
       "    <tr>\n",
       "      <th>1257</th>\n",
       "      <td>2018-02-06</td>\n",
       "      <td>53.685</td>\n",
       "      <td>56.06</td>\n",
       "      <td>53.56</td>\n",
       "      <td>55.61</td>\n",
       "      <td>17415065</td>\n",
       "      <td>SBUX</td>\n",
       "      <td>54.69</td>\n",
       "      <td>0.016822</td>\n",
       "    </tr>\n",
       "    <tr>\n",
       "      <th>1258</th>\n",
       "      <td>2018-02-07</td>\n",
       "      <td>55.080</td>\n",
       "      <td>55.43</td>\n",
       "      <td>54.44</td>\n",
       "      <td>54.46</td>\n",
       "      <td>13927022</td>\n",
       "      <td>SBUX</td>\n",
       "      <td>55.61</td>\n",
       "      <td>-0.020680</td>\n",
       "    </tr>\n",
       "  </tbody>\n",
       "</table>\n",
       "</div>"
      ],
      "text/plain": [
       "            date    open   high    low  ...    volume  Name PrevClose    Return\n",
       "1254  2018-02-01  56.280  56.42  55.89  ...  14690146  SBUX     56.81 -0.014258\n",
       "1255  2018-02-02  55.900  56.32  55.70  ...  15358909  SBUX     56.00 -0.004107\n",
       "1256  2018-02-05  55.530  56.26  54.57  ...  16059955  SBUX     55.77 -0.019365\n",
       "1257  2018-02-06  53.685  56.06  53.56  ...  17415065  SBUX     54.69  0.016822\n",
       "1258  2018-02-07  55.080  55.43  54.44  ...  13927022  SBUX     55.61 -0.020680\n",
       "\n",
       "[5 rows x 9 columns]"
      ]
     },
     "execution_count": 35,
     "metadata": {
      "tags": []
     },
     "output_type": "execute_result"
    }
   ],
   "source": [
    "df.tail()"
   ]
  },
  {
   "cell_type": "code",
   "execution_count": 0,
   "metadata": {
    "colab": {},
    "colab_type": "code",
    "id": "g4BqZZKVVa9Y"
   },
   "outputs": [],
   "source": [
    "# Start by doing the WRONG thing - trying to predict the price itself\n",
    "series = df['close'].values.reshape(-1, 1)"
   ]
  },
  {
   "cell_type": "code",
   "execution_count": 0,
   "metadata": {
    "colab": {},
    "colab_type": "code",
    "id": "9QZl4EZbV8bl"
   },
   "outputs": [],
   "source": [
    "# Normalize the data\n",
    "# Note: I didn't think about where the true boundary is, this is just approx.\n",
    "scaler = StandardScaler()\n",
    "scaler.fit(series[:len(series) // 2])\n",
    "series = scaler.transform(series).flatten()"
   ]
  },
  {
   "cell_type": "code",
   "execution_count": 0,
   "metadata": {
    "colab": {
     "base_uri": "https://localhost:8080/",
     "height": 34
    },
    "colab_type": "code",
    "id": "2A0AKHVsWMlz",
    "outputId": "4085a62b-8fd1-43ab-de6d-eae22efb1d17"
   },
   "outputs": [
    {
     "name": "stdout",
     "output_type": "stream",
     "text": [
      "X.shape (1249, 10, 1) Y.shape (1249,)\n"
     ]
    }
   ],
   "source": [
    "### build the dataset\n",
    "# let's see if we can use T past values to predict the next value\n",
    "T = 10\n",
    "D = 1\n",
    "X = []\n",
    "Y = []\n",
    "for t in range(len(series) - T):\n",
    "  x = series[t:t+T]\n",
    "  X.append(x)\n",
    "  y = series[t+T]\n",
    "  Y.append(y)\n",
    "\n",
    "X = np.array(X).reshape(-1, T, 1) # Now the data should be N x T x D\n",
    "Y = np.array(Y)\n",
    "N = len(X)\n",
    "print(\"X.shape\", X.shape, \"Y.shape\", Y.shape)"
   ]
  },
  {
   "cell_type": "code",
   "execution_count": 0,
   "metadata": {
    "colab": {
     "base_uri": "https://localhost:8080/",
     "height": 1000
    },
    "colab_type": "code",
    "id": "0ZNh2cqFW76z",
    "outputId": "e62c6ff9-3ad5-4d6a-a952-fff6a415ffcf"
   },
   "outputs": [
    {
     "name": "stdout",
     "output_type": "stream",
     "text": [
      "Epoch 1/80\n",
      "20/20 [==============================] - 1s 27ms/step - loss: 0.0447 - accuracy: 0.0000e+00 - val_loss: 0.0407 - val_accuracy: 0.0000e+00\n",
      "Epoch 2/80\n",
      "20/20 [==============================] - 0s 7ms/step - loss: 0.0076 - accuracy: 0.0000e+00 - val_loss: 0.0455 - val_accuracy: 0.0000e+00\n",
      "Epoch 3/80\n",
      "20/20 [==============================] - 0s 8ms/step - loss: 0.0087 - accuracy: 0.0000e+00 - val_loss: 0.0227 - val_accuracy: 0.0000e+00\n",
      "Epoch 4/80\n",
      "20/20 [==============================] - 0s 8ms/step - loss: 0.0069 - accuracy: 0.0000e+00 - val_loss: 0.0217 - val_accuracy: 0.0000e+00\n",
      "Epoch 5/80\n",
      "20/20 [==============================] - 0s 7ms/step - loss: 0.0057 - accuracy: 0.0000e+00 - val_loss: 0.0185 - val_accuracy: 0.0000e+00\n",
      "Epoch 6/80\n",
      "20/20 [==============================] - 0s 7ms/step - loss: 0.0054 - accuracy: 0.0000e+00 - val_loss: 0.0157 - val_accuracy: 0.0000e+00\n",
      "Epoch 7/80\n",
      "20/20 [==============================] - 0s 8ms/step - loss: 0.0072 - accuracy: 0.0000e+00 - val_loss: 0.0189 - val_accuracy: 0.0000e+00\n",
      "Epoch 8/80\n",
      "20/20 [==============================] - 0s 7ms/step - loss: 0.0074 - accuracy: 0.0000e+00 - val_loss: 0.0601 - val_accuracy: 0.0000e+00\n",
      "Epoch 9/80\n",
      "20/20 [==============================] - 0s 7ms/step - loss: 0.0076 - accuracy: 0.0000e+00 - val_loss: 0.0296 - val_accuracy: 0.0000e+00\n",
      "Epoch 10/80\n",
      "20/20 [==============================] - 0s 7ms/step - loss: 0.0053 - accuracy: 0.0000e+00 - val_loss: 0.0177 - val_accuracy: 0.0000e+00\n",
      "Epoch 11/80\n",
      "20/20 [==============================] - 0s 7ms/step - loss: 0.0058 - accuracy: 0.0000e+00 - val_loss: 0.0183 - val_accuracy: 0.0000e+00\n",
      "Epoch 12/80\n",
      "20/20 [==============================] - 0s 8ms/step - loss: 0.0061 - accuracy: 0.0000e+00 - val_loss: 0.0195 - val_accuracy: 0.0000e+00\n",
      "Epoch 13/80\n",
      "20/20 [==============================] - 0s 7ms/step - loss: 0.0057 - accuracy: 0.0000e+00 - val_loss: 0.0206 - val_accuracy: 0.0000e+00\n",
      "Epoch 14/80\n",
      "20/20 [==============================] - 0s 8ms/step - loss: 0.0070 - accuracy: 0.0000e+00 - val_loss: 0.0201 - val_accuracy: 0.0000e+00\n",
      "Epoch 15/80\n",
      "20/20 [==============================] - 0s 7ms/step - loss: 0.0070 - accuracy: 0.0000e+00 - val_loss: 0.0204 - val_accuracy: 0.0000e+00\n",
      "Epoch 16/80\n",
      "20/20 [==============================] - 0s 8ms/step - loss: 0.0065 - accuracy: 0.0000e+00 - val_loss: 0.0310 - val_accuracy: 0.0000e+00\n",
      "Epoch 17/80\n",
      "20/20 [==============================] - 0s 7ms/step - loss: 0.0070 - accuracy: 0.0000e+00 - val_loss: 0.0229 - val_accuracy: 0.0000e+00\n",
      "Epoch 18/80\n",
      "20/20 [==============================] - 0s 7ms/step - loss: 0.0055 - accuracy: 0.0000e+00 - val_loss: 0.0179 - val_accuracy: 0.0000e+00\n",
      "Epoch 19/80\n",
      "20/20 [==============================] - 0s 8ms/step - loss: 0.0063 - accuracy: 0.0000e+00 - val_loss: 0.0132 - val_accuracy: 0.0000e+00\n",
      "Epoch 20/80\n",
      "20/20 [==============================] - 0s 7ms/step - loss: 0.0059 - accuracy: 0.0000e+00 - val_loss: 0.0406 - val_accuracy: 0.0000e+00\n",
      "Epoch 21/80\n",
      "20/20 [==============================] - 0s 8ms/step - loss: 0.0066 - accuracy: 0.0000e+00 - val_loss: 0.0149 - val_accuracy: 0.0000e+00\n",
      "Epoch 22/80\n",
      "20/20 [==============================] - 0s 7ms/step - loss: 0.0063 - accuracy: 0.0000e+00 - val_loss: 0.0159 - val_accuracy: 0.0000e+00\n",
      "Epoch 23/80\n",
      "20/20 [==============================] - 0s 7ms/step - loss: 0.0053 - accuracy: 0.0000e+00 - val_loss: 0.0183 - val_accuracy: 0.0000e+00\n",
      "Epoch 24/80\n",
      "20/20 [==============================] - 0s 8ms/step - loss: 0.0059 - accuracy: 0.0000e+00 - val_loss: 0.0145 - val_accuracy: 0.0000e+00\n",
      "Epoch 25/80\n",
      "20/20 [==============================] - 0s 8ms/step - loss: 0.0066 - accuracy: 0.0000e+00 - val_loss: 0.0217 - val_accuracy: 0.0000e+00\n",
      "Epoch 26/80\n",
      "20/20 [==============================] - 0s 7ms/step - loss: 0.0076 - accuracy: 0.0000e+00 - val_loss: 0.0230 - val_accuracy: 0.0000e+00\n",
      "Epoch 27/80\n",
      "20/20 [==============================] - 0s 7ms/step - loss: 0.0164 - accuracy: 0.0000e+00 - val_loss: 0.0329 - val_accuracy: 0.0000e+00\n",
      "Epoch 28/80\n",
      "20/20 [==============================] - 0s 8ms/step - loss: 0.0128 - accuracy: 0.0000e+00 - val_loss: 0.0466 - val_accuracy: 0.0000e+00\n",
      "Epoch 29/80\n",
      "20/20 [==============================] - 0s 7ms/step - loss: 0.0086 - accuracy: 0.0000e+00 - val_loss: 0.0509 - val_accuracy: 0.0000e+00\n",
      "Epoch 30/80\n",
      "20/20 [==============================] - 0s 8ms/step - loss: 0.0062 - accuracy: 0.0000e+00 - val_loss: 0.0490 - val_accuracy: 0.0000e+00\n",
      "Epoch 31/80\n",
      "20/20 [==============================] - 0s 7ms/step - loss: 0.0058 - accuracy: 0.0000e+00 - val_loss: 0.0373 - val_accuracy: 0.0000e+00\n",
      "Epoch 32/80\n",
      "20/20 [==============================] - 0s 7ms/step - loss: 0.0066 - accuracy: 0.0000e+00 - val_loss: 0.0459 - val_accuracy: 0.0000e+00\n",
      "Epoch 33/80\n",
      "20/20 [==============================] - 0s 7ms/step - loss: 0.0058 - accuracy: 0.0000e+00 - val_loss: 0.0375 - val_accuracy: 0.0000e+00\n",
      "Epoch 34/80\n",
      "20/20 [==============================] - 0s 7ms/step - loss: 0.0060 - accuracy: 0.0000e+00 - val_loss: 0.0879 - val_accuracy: 0.0000e+00\n",
      "Epoch 35/80\n",
      "20/20 [==============================] - 0s 7ms/step - loss: 0.0066 - accuracy: 0.0000e+00 - val_loss: 0.0408 - val_accuracy: 0.0000e+00\n",
      "Epoch 36/80\n",
      "20/20 [==============================] - 0s 7ms/step - loss: 0.0057 - accuracy: 0.0000e+00 - val_loss: 0.0310 - val_accuracy: 0.0000e+00\n",
      "Epoch 37/80\n",
      "20/20 [==============================] - 0s 7ms/step - loss: 0.0056 - accuracy: 0.0000e+00 - val_loss: 0.0286 - val_accuracy: 0.0000e+00\n",
      "Epoch 38/80\n",
      "20/20 [==============================] - 0s 7ms/step - loss: 0.0067 - accuracy: 0.0000e+00 - val_loss: 0.0246 - val_accuracy: 0.0000e+00\n",
      "Epoch 39/80\n",
      "20/20 [==============================] - 0s 8ms/step - loss: 0.0060 - accuracy: 0.0000e+00 - val_loss: 0.0246 - val_accuracy: 0.0000e+00\n",
      "Epoch 40/80\n",
      "20/20 [==============================] - 0s 7ms/step - loss: 0.0067 - accuracy: 0.0000e+00 - val_loss: 0.0498 - val_accuracy: 0.0000e+00\n",
      "Epoch 41/80\n",
      "20/20 [==============================] - 0s 7ms/step - loss: 0.0067 - accuracy: 0.0000e+00 - val_loss: 0.0175 - val_accuracy: 0.0000e+00\n",
      "Epoch 42/80\n",
      "20/20 [==============================] - 0s 7ms/step - loss: 0.0051 - accuracy: 0.0000e+00 - val_loss: 0.0154 - val_accuracy: 0.0000e+00\n",
      "Epoch 43/80\n",
      "20/20 [==============================] - 0s 7ms/step - loss: 0.0061 - accuracy: 0.0000e+00 - val_loss: 0.0224 - val_accuracy: 0.0000e+00\n",
      "Epoch 44/80\n",
      "20/20 [==============================] - 0s 8ms/step - loss: 0.0066 - accuracy: 0.0000e+00 - val_loss: 0.0320 - val_accuracy: 0.0000e+00\n",
      "Epoch 45/80\n",
      "20/20 [==============================] - 0s 8ms/step - loss: 0.0087 - accuracy: 0.0000e+00 - val_loss: 0.0590 - val_accuracy: 0.0000e+00\n",
      "Epoch 46/80\n",
      "20/20 [==============================] - 0s 7ms/step - loss: 0.0068 - accuracy: 0.0000e+00 - val_loss: 0.0226 - val_accuracy: 0.0000e+00\n",
      "Epoch 47/80\n",
      "20/20 [==============================] - 0s 7ms/step - loss: 0.0070 - accuracy: 0.0000e+00 - val_loss: 0.0554 - val_accuracy: 0.0000e+00\n",
      "Epoch 48/80\n",
      "20/20 [==============================] - 0s 7ms/step - loss: 0.0073 - accuracy: 0.0000e+00 - val_loss: 0.0149 - val_accuracy: 0.0000e+00\n",
      "Epoch 49/80\n",
      "20/20 [==============================] - 0s 8ms/step - loss: 0.0059 - accuracy: 0.0000e+00 - val_loss: 0.0177 - val_accuracy: 0.0000e+00\n",
      "Epoch 50/80\n",
      "20/20 [==============================] - 0s 8ms/step - loss: 0.0067 - accuracy: 0.0000e+00 - val_loss: 0.0276 - val_accuracy: 0.0000e+00\n",
      "Epoch 51/80\n",
      "20/20 [==============================] - 0s 7ms/step - loss: 0.0079 - accuracy: 0.0000e+00 - val_loss: 0.0248 - val_accuracy: 0.0000e+00\n",
      "Epoch 52/80\n",
      "20/20 [==============================] - 0s 7ms/step - loss: 0.0060 - accuracy: 0.0000e+00 - val_loss: 0.0174 - val_accuracy: 0.0000e+00\n",
      "Epoch 53/80\n",
      "20/20 [==============================] - 0s 7ms/step - loss: 0.0055 - accuracy: 0.0000e+00 - val_loss: 0.0185 - val_accuracy: 0.0000e+00\n",
      "Epoch 54/80\n",
      "20/20 [==============================] - 0s 7ms/step - loss: 0.0059 - accuracy: 0.0000e+00 - val_loss: 0.0142 - val_accuracy: 0.0000e+00\n",
      "Epoch 55/80\n",
      "20/20 [==============================] - 0s 7ms/step - loss: 0.0053 - accuracy: 0.0000e+00 - val_loss: 0.0128 - val_accuracy: 0.0000e+00\n",
      "Epoch 56/80\n",
      "20/20 [==============================] - 0s 7ms/step - loss: 0.0051 - accuracy: 0.0000e+00 - val_loss: 0.0216 - val_accuracy: 0.0000e+00\n",
      "Epoch 57/80\n",
      "20/20 [==============================] - 0s 7ms/step - loss: 0.0051 - accuracy: 0.0000e+00 - val_loss: 0.0198 - val_accuracy: 0.0000e+00\n",
      "Epoch 58/80\n",
      "20/20 [==============================] - 0s 8ms/step - loss: 0.0051 - accuracy: 0.0000e+00 - val_loss: 0.0151 - val_accuracy: 0.0000e+00\n",
      "Epoch 59/80\n",
      "20/20 [==============================] - 0s 7ms/step - loss: 0.0054 - accuracy: 0.0000e+00 - val_loss: 0.0143 - val_accuracy: 0.0000e+00\n",
      "Epoch 60/80\n",
      "20/20 [==============================] - 0s 7ms/step - loss: 0.0056 - accuracy: 0.0000e+00 - val_loss: 0.0137 - val_accuracy: 0.0000e+00\n",
      "Epoch 61/80\n",
      "20/20 [==============================] - 0s 7ms/step - loss: 0.0053 - accuracy: 0.0000e+00 - val_loss: 0.0122 - val_accuracy: 0.0000e+00\n",
      "Epoch 62/80\n",
      "20/20 [==============================] - 0s 7ms/step - loss: 0.0072 - accuracy: 0.0000e+00 - val_loss: 0.0393 - val_accuracy: 0.0000e+00\n",
      "Epoch 63/80\n",
      "20/20 [==============================] - 0s 7ms/step - loss: 0.0062 - accuracy: 0.0000e+00 - val_loss: 0.0140 - val_accuracy: 0.0000e+00\n",
      "Epoch 64/80\n",
      "20/20 [==============================] - 0s 7ms/step - loss: 0.0065 - accuracy: 0.0000e+00 - val_loss: 0.0128 - val_accuracy: 0.0000e+00\n",
      "Epoch 65/80\n",
      "20/20 [==============================] - 0s 7ms/step - loss: 0.0056 - accuracy: 0.0000e+00 - val_loss: 0.0191 - val_accuracy: 0.0000e+00\n",
      "Epoch 66/80\n",
      "20/20 [==============================] - 0s 7ms/step - loss: 0.0063 - accuracy: 0.0000e+00 - val_loss: 0.0142 - val_accuracy: 0.0000e+00\n",
      "Epoch 67/80\n",
      "20/20 [==============================] - 0s 8ms/step - loss: 0.0056 - accuracy: 0.0000e+00 - val_loss: 0.0148 - val_accuracy: 0.0000e+00\n",
      "Epoch 68/80\n",
      "20/20 [==============================] - 0s 7ms/step - loss: 0.0049 - accuracy: 0.0000e+00 - val_loss: 0.0126 - val_accuracy: 0.0000e+00\n",
      "Epoch 69/80\n",
      "20/20 [==============================] - 0s 8ms/step - loss: 0.0054 - accuracy: 0.0000e+00 - val_loss: 0.0171 - val_accuracy: 0.0000e+00\n",
      "Epoch 70/80\n",
      "20/20 [==============================] - 0s 9ms/step - loss: 0.0058 - accuracy: 0.0000e+00 - val_loss: 0.0124 - val_accuracy: 0.0000e+00\n",
      "Epoch 71/80\n",
      "20/20 [==============================] - 0s 7ms/step - loss: 0.0058 - accuracy: 0.0000e+00 - val_loss: 0.0122 - val_accuracy: 0.0000e+00\n",
      "Epoch 72/80\n",
      "20/20 [==============================] - 0s 7ms/step - loss: 0.0056 - accuracy: 0.0000e+00 - val_loss: 0.0153 - val_accuracy: 0.0000e+00\n",
      "Epoch 73/80\n",
      "20/20 [==============================] - 0s 7ms/step - loss: 0.0055 - accuracy: 0.0000e+00 - val_loss: 0.0218 - val_accuracy: 0.0000e+00\n",
      "Epoch 74/80\n",
      "20/20 [==============================] - 0s 7ms/step - loss: 0.0055 - accuracy: 0.0000e+00 - val_loss: 0.0136 - val_accuracy: 0.0000e+00\n",
      "Epoch 75/80\n",
      "20/20 [==============================] - 0s 7ms/step - loss: 0.0053 - accuracy: 0.0000e+00 - val_loss: 0.0130 - val_accuracy: 0.0000e+00\n",
      "Epoch 76/80\n",
      "20/20 [==============================] - 0s 8ms/step - loss: 0.0049 - accuracy: 0.0000e+00 - val_loss: 0.0129 - val_accuracy: 0.0000e+00\n",
      "Epoch 77/80\n",
      "20/20 [==============================] - 0s 7ms/step - loss: 0.0050 - accuracy: 0.0000e+00 - val_loss: 0.0175 - val_accuracy: 0.0000e+00\n",
      "Epoch 78/80\n",
      "20/20 [==============================] - 0s 7ms/step - loss: 0.0060 - accuracy: 0.0000e+00 - val_loss: 0.0124 - val_accuracy: 0.0000e+00\n",
      "Epoch 79/80\n",
      "20/20 [==============================] - 0s 7ms/step - loss: 0.0063 - accuracy: 0.0000e+00 - val_loss: 0.0141 - val_accuracy: 0.0000e+00\n",
      "Epoch 80/80\n",
      "20/20 [==============================] - 0s 7ms/step - loss: 0.0064 - accuracy: 0.0000e+00 - val_loss: 0.0233 - val_accuracy: 0.0000e+00\n"
     ]
    }
   ],
   "source": [
    "### try autoregressive RNN model\n",
    "i = Input(shape=(T, 1))\n",
    "x = LSTM(5)(i)\n",
    "x = Dense(1)(x)\n",
    "model = Model(i, x)\n",
    "model.compile(\n",
    "    loss='mse',\n",
    "    optimizer=Adam(lr=0.1),\n",
    "    metrics=['accuracy']\n",
    ")\n",
    "\n",
    "# train the RNN\n",
    "r = model.fit(\n",
    "    X[:-N//2], Y[:-N//2],\n",
    "    epochs=80,\n",
    "    validation_data=(X[-N//2:], Y[-N//2:]),\n",
    ")"
   ]
  },
  {
   "cell_type": "code",
   "execution_count": 0,
   "metadata": {
    "colab": {
     "base_uri": "https://localhost:8080/",
     "height": 282
    },
    "colab_type": "code",
    "id": "QdEwztT-Xt_J",
    "outputId": "b47939f0-0720-465f-a3bf-facba6e87605"
   },
   "outputs": [
    {
     "data": {
      "text/plain": [
       "<matplotlib.legend.Legend at 0x7f8b15a65c88>"
      ]
     },
     "execution_count": 12,
     "metadata": {
      "tags": []
     },
     "output_type": "execute_result"
    },
    {
     "data": {
      "image/png": "[encoded data removed]",
      "text/plain": [
       "<Figure size 432x288 with 1 Axes>"
      ]
     },
     "metadata": {
      "needs_background": "light",
      "tags": []
     },
     "output_type": "display_data"
    }
   ],
   "source": [
    "# plot accuracy per iteration\n",
    "plt.plot(r.history['loss'], label='loss')\n",
    "plt.plot(r.history['val_loss'], label='val_loss')\n",
    "plt.legend()"
   ]
  },
  {
   "cell_type": "code",
   "execution_count": 0,
   "metadata": {
    "colab": {
     "base_uri": "https://localhost:8080/",
     "height": 282
    },
    "colab_type": "code",
    "id": "zJh3b-H2YMwJ",
    "outputId": "5a007836-2e84-4bc5-9d1e-8ecd33aeae6f"
   },
   "outputs": [
    {
     "name": "stdout",
     "output_type": "stream",
     "text": [
      "(1249, 1)\n"
     ]
    },
    {
     "data": {
      "image/png": "[encoded data removed]",
      "text/plain": [
       "<Figure size 432x288 with 1 Axes>"
      ]
     },
     "metadata": {
      "needs_background": "light",
      "tags": []
     },
     "output_type": "display_data"
    }
   ],
   "source": [
    "# One-step forecast using true targets\n",
    "outputs = model.predict(X)\n",
    "print(outputs.shape)\n",
    "predictions = outputs[:, 0]\n",
    "\n",
    "plt.plot(Y, label='targets')\n",
    "plt.plot(predictions, label='predictions')\n",
    "plt.legend()\n",
    "plt.show()"
   ]
  },
  {
   "cell_type": "code",
   "execution_count": 0,
   "metadata": {
    "colab": {
     "base_uri": "https://localhost:8080/",
     "height": 282
    },
    "colab_type": "code",
    "id": "1uhcJG1xYo8w",
    "outputId": "369b1919-7797-4999-b43f-04cfdc3ab785"
   },
   "outputs": [
    {
     "data": {
      "text/plain": [
       "<matplotlib.legend.Legend at 0x7f8b16475ba8>"
      ]
     },
     "execution_count": 14,
     "metadata": {
      "tags": []
     },
     "output_type": "execute_result"
    },
    {
     "data": {
      "image/png": "[encoded data removed]",
      "text/plain": [
       "<Figure size 432x288 with 1 Axes>"
      ]
     },
     "metadata": {
      "needs_background": "light",
      "tags": []
     },
     "output_type": "display_data"
    }
   ],
   "source": [
    "# Multi-step forecast\n",
    "validation_target = Y[-N//2:]\n",
    "validation_predictions = []\n",
    "\n",
    "# last train input\n",
    "last_x = X[-N//2] # 1-D array of length T\n",
    "\n",
    "while len(validation_predictions) < len(validation_target):\n",
    "  p = model.predict(last_x.reshape(1, T, 1))[0,0] # 1x1 array -> scalar\n",
    "\n",
    "  # update the predictions list\n",
    "  validation_predictions.append(p)\n",
    "\n",
    "  # make the new input\n",
    "  last_x = np.roll(last_x, -1)\n",
    "  last_x[-1] = p\n",
    "\n",
    "plt.plot(validation_target, label='forecast target')\n",
    "plt.plot(validation_predictions, label='forecast prediction')\n",
    "plt.legend()"
   ]
  },
  {
   "cell_type": "code",
   "execution_count": 0,
   "metadata": {
    "colab": {},
    "colab_type": "code",
    "id": "KoVi99tUZqY6"
   },
   "outputs": [],
   "source": [
    "# calculate returns by first shifting the data\n",
    "df['PrevClose'] = df['close'].shift(1)  # move everything up 1\n",
    "\n",
    "# so now it's like\n",
    "# close / prev close\n",
    "# x[2] x[1]\n",
    "# x[3] x[2]\n",
    "# x[4] x[3]\n",
    "# ...\n",
    "# x[t] x[t-1]"
   ]
  },
  {
   "cell_type": "code",
   "execution_count": 0,
   "metadata": {
    "colab": {
     "base_uri": "https://localhost:8080/",
     "height": 204
    },
    "colab_type": "code",
    "id": "0Pku3KzlbUhE",
    "outputId": "123235d2-329c-4e86-94b7-98dfcb425893"
   },
   "outputs": [
    {
     "data": {
      "text/html": [
       "<div>\n",
       "<style scoped>\n",
       "    .dataframe tbody tr th:only-of-type {\n",
       "        vertical-align: middle;\n",
       "    }\n",
       "\n",
       "    .dataframe tbody tr th {\n",
       "        vertical-align: top;\n",
       "    }\n",
       "\n",
       "    .dataframe thead th {\n",
       "        text-align: right;\n",
       "    }\n",
       "</style>\n",
       "<table border=\"1\" class=\"dataframe\">\n",
       "  <thead>\n",
       "    <tr style=\"text-align: right;\">\n",
       "      <th></th>\n",
       "      <th>date</th>\n",
       "      <th>open</th>\n",
       "      <th>high</th>\n",
       "      <th>low</th>\n",
       "      <th>close</th>\n",
       "      <th>volume</th>\n",
       "      <th>Name</th>\n",
       "      <th>PrevClose</th>\n",
       "    </tr>\n",
       "  </thead>\n",
       "  <tbody>\n",
       "    <tr>\n",
       "      <th>0</th>\n",
       "      <td>2013-02-08</td>\n",
       "      <td>27.920</td>\n",
       "      <td>28.325</td>\n",
       "      <td>27.920</td>\n",
       "      <td>28.185</td>\n",
       "      <td>7146296</td>\n",
       "      <td>SBUX</td>\n",
       "      <td>NaN</td>\n",
       "    </tr>\n",
       "    <tr>\n",
       "      <th>1</th>\n",
       "      <td>2013-02-11</td>\n",
       "      <td>28.260</td>\n",
       "      <td>28.260</td>\n",
       "      <td>27.930</td>\n",
       "      <td>28.070</td>\n",
       "      <td>5457354</td>\n",
       "      <td>SBUX</td>\n",
       "      <td>28.185</td>\n",
       "    </tr>\n",
       "    <tr>\n",
       "      <th>2</th>\n",
       "      <td>2013-02-12</td>\n",
       "      <td>28.000</td>\n",
       "      <td>28.275</td>\n",
       "      <td>27.975</td>\n",
       "      <td>28.130</td>\n",
       "      <td>8665592</td>\n",
       "      <td>SBUX</td>\n",
       "      <td>28.070</td>\n",
       "    </tr>\n",
       "    <tr>\n",
       "      <th>3</th>\n",
       "      <td>2013-02-13</td>\n",
       "      <td>28.230</td>\n",
       "      <td>28.230</td>\n",
       "      <td>27.750</td>\n",
       "      <td>27.915</td>\n",
       "      <td>7022056</td>\n",
       "      <td>SBUX</td>\n",
       "      <td>28.130</td>\n",
       "    </tr>\n",
       "    <tr>\n",
       "      <th>4</th>\n",
       "      <td>2013-02-14</td>\n",
       "      <td>27.765</td>\n",
       "      <td>27.905</td>\n",
       "      <td>27.675</td>\n",
       "      <td>27.775</td>\n",
       "      <td>8899188</td>\n",
       "      <td>SBUX</td>\n",
       "      <td>27.915</td>\n",
       "    </tr>\n",
       "  </tbody>\n",
       "</table>\n",
       "</div>"
      ],
      "text/plain": [
       "         date    open    high     low   close   volume  Name  PrevClose\n",
       "0  2013-02-08  27.920  28.325  27.920  28.185  7146296  SBUX        NaN\n",
       "1  2013-02-11  28.260  28.260  27.930  28.070  5457354  SBUX     28.185\n",
       "2  2013-02-12  28.000  28.275  27.975  28.130  8665592  SBUX     28.070\n",
       "3  2013-02-13  28.230  28.230  27.750  27.915  7022056  SBUX     28.130\n",
       "4  2013-02-14  27.765  27.905  27.675  27.775  8899188  SBUX     27.915"
      ]
     },
     "execution_count": 16,
     "metadata": {
      "tags": []
     },
     "output_type": "execute_result"
    }
   ],
   "source": [
    "df.head()"
   ]
  },
  {
   "cell_type": "code",
   "execution_count": 0,
   "metadata": {
    "colab": {},
    "colab_type": "code",
    "id": "CDuOu9KYbXMq"
   },
   "outputs": [],
   "source": [
    "# then the return is\n",
    "# (x[t] - x[t-1]) / x[t-1]\n",
    "df['Return'] = (df['close'] - df['PrevClose']) / df['PrevClose'] "
   ]
  },
  {
   "cell_type": "code",
   "execution_count": 0,
   "metadata": {
    "colab": {
     "base_uri": "https://localhost:8080/",
     "height": 204
    },
    "colab_type": "code",
    "id": "z7NLxxeQbxKf",
    "outputId": "47702fff-af93-452f-94ab-03923e8b8a0c"
   },
   "outputs": [
    {
     "data": {
      "text/html": [
       "<div>\n",
       "<style scoped>\n",
       "    .dataframe tbody tr th:only-of-type {\n",
       "        vertical-align: middle;\n",
       "    }\n",
       "\n",
       "    .dataframe tbody tr th {\n",
       "        vertical-align: top;\n",
       "    }\n",
       "\n",
       "    .dataframe thead th {\n",
       "        text-align: right;\n",
       "    }\n",
       "</style>\n",
       "<table border=\"1\" class=\"dataframe\">\n",
       "  <thead>\n",
       "    <tr style=\"text-align: right;\">\n",
       "      <th></th>\n",
       "      <th>date</th>\n",
       "      <th>open</th>\n",
       "      <th>high</th>\n",
       "      <th>low</th>\n",
       "      <th>close</th>\n",
       "      <th>volume</th>\n",
       "      <th>Name</th>\n",
       "      <th>PrevClose</th>\n",
       "      <th>Return</th>\n",
       "    </tr>\n",
       "  </thead>\n",
       "  <tbody>\n",
       "    <tr>\n",
       "      <th>0</th>\n",
       "      <td>2013-02-08</td>\n",
       "      <td>27.920</td>\n",
       "      <td>28.325</td>\n",
       "      <td>27.920</td>\n",
       "      <td>28.185</td>\n",
       "      <td>7146296</td>\n",
       "      <td>SBUX</td>\n",
       "      <td>NaN</td>\n",
       "      <td>NaN</td>\n",
       "    </tr>\n",
       "    <tr>\n",
       "      <th>1</th>\n",
       "      <td>2013-02-11</td>\n",
       "      <td>28.260</td>\n",
       "      <td>28.260</td>\n",
       "      <td>27.930</td>\n",
       "      <td>28.070</td>\n",
       "      <td>5457354</td>\n",
       "      <td>SBUX</td>\n",
       "      <td>28.185</td>\n",
       "      <td>-0.004080</td>\n",
       "    </tr>\n",
       "    <tr>\n",
       "      <th>2</th>\n",
       "      <td>2013-02-12</td>\n",
       "      <td>28.000</td>\n",
       "      <td>28.275</td>\n",
       "      <td>27.975</td>\n",
       "      <td>28.130</td>\n",
       "      <td>8665592</td>\n",
       "      <td>SBUX</td>\n",
       "      <td>28.070</td>\n",
       "      <td>0.002138</td>\n",
       "    </tr>\n",
       "    <tr>\n",
       "      <th>3</th>\n",
       "      <td>2013-02-13</td>\n",
       "      <td>28.230</td>\n",
       "      <td>28.230</td>\n",
       "      <td>27.750</td>\n",
       "      <td>27.915</td>\n",
       "      <td>7022056</td>\n",
       "      <td>SBUX</td>\n",
       "      <td>28.130</td>\n",
       "      <td>-0.007643</td>\n",
       "    </tr>\n",
       "    <tr>\n",
       "      <th>4</th>\n",
       "      <td>2013-02-14</td>\n",
       "      <td>27.765</td>\n",
       "      <td>27.905</td>\n",
       "      <td>27.675</td>\n",
       "      <td>27.775</td>\n",
       "      <td>8899188</td>\n",
       "      <td>SBUX</td>\n",
       "      <td>27.915</td>\n",
       "      <td>-0.005015</td>\n",
       "    </tr>\n",
       "  </tbody>\n",
       "</table>\n",
       "</div>"
      ],
      "text/plain": [
       "         date    open    high     low  ...   volume  Name PrevClose    Return\n",
       "0  2013-02-08  27.920  28.325  27.920  ...  7146296  SBUX       NaN       NaN\n",
       "1  2013-02-11  28.260  28.260  27.930  ...  5457354  SBUX    28.185 -0.004080\n",
       "2  2013-02-12  28.000  28.275  27.975  ...  8665592  SBUX    28.070  0.002138\n",
       "3  2013-02-13  28.230  28.230  27.750  ...  7022056  SBUX    28.130 -0.007643\n",
       "4  2013-02-14  27.765  27.905  27.675  ...  8899188  SBUX    27.915 -0.005015\n",
       "\n",
       "[5 rows x 9 columns]"
      ]
     },
     "execution_count": 18,
     "metadata": {
      "tags": []
     },
     "output_type": "execute_result"
    }
   ],
   "source": [
    "df.head()"
   ]
  },
  {
   "cell_type": "code",
   "execution_count": 0,
   "metadata": {
    "colab": {
     "base_uri": "https://localhost:8080/",
     "height": 282
    },
    "colab_type": "code",
    "id": "qNSxm76qbyR3",
    "outputId": "495b53bd-197a-456e-e50d-9588e3009d67"
   },
   "outputs": [
    {
     "data": {
      "text/plain": [
       "<matplotlib.axes._subplots.AxesSubplot at 0x7f8b165fa940>"
      ]
     },
     "execution_count": 19,
     "metadata": {
      "tags": []
     },
     "output_type": "execute_result"
    },
    {
     "data": {
      "image/png": "[encoded data removed]",
      "text/plain": [
       "<Figure size 432x288 with 1 Axes>"
      ]
     },
     "metadata": {
      "needs_background": "light",
      "tags": []
     },
     "output_type": "display_data"
    }
   ],
   "source": [
    "# Now let's try an LSTM to predict returns\n",
    "df['Return'].hist()"
   ]
  },
  {
   "cell_type": "code",
   "execution_count": 0,
   "metadata": {
    "colab": {},
    "colab_type": "code",
    "id": "H5W6_7Gvb-Xv"
   },
   "outputs": [],
   "source": [
    "series = df['Return'].values[1:].reshape(-1, 1)\n",
    "\n",
    "# Normalize the data\n",
    "# Note: I didn't think about where the true boundary is, this is just approx.\n",
    "scaler = StandardScaler()\n",
    "scaler.fit(series[:len(series) // 2])\n",
    "series = scaler.transform(series).flatten()"
   ]
  },
  {
   "cell_type": "code",
   "execution_count": 0,
   "metadata": {
    "colab": {
     "base_uri": "https://localhost:8080/",
     "height": 34
    },
    "colab_type": "code",
    "id": "R9J8-4MJceL6",
    "outputId": "80e9558a-67a1-4deb-f9e4-eea97e9307d3"
   },
   "outputs": [
    {
     "name": "stdout",
     "output_type": "stream",
     "text": [
      "X.shape (1248, 10, 1) Y.shape (1248,)\n"
     ]
    }
   ],
   "source": [
    "### build the dataset\n",
    "# let's see if we can use T past values to predict the next value\n",
    "T = 10\n",
    "D = 1\n",
    "X = []\n",
    "Y = []\n",
    "\n",
    "for t in range(len(series) - T):\n",
    "  x = series[t:t+T]\n",
    "  X.append(x)\n",
    "  y = series[t+T]\n",
    "  Y.append(y)\n",
    "\n",
    "X = np.array(X).reshape(-1, T, 1) # Now the data should be N x T x D\n",
    "Y = np.array(Y)\n",
    "N = len(X)\n",
    "print(\"X.shape\", X.shape, \"Y.shape\", Y.shape)"
   ]
  },
  {
   "cell_type": "code",
   "execution_count": 0,
   "metadata": {
    "colab": {
     "base_uri": "https://localhost:8080/",
     "height": 1000
    },
    "colab_type": "code",
    "id": "Nxy2hjRgdKD5",
    "outputId": "45c3377a-b3be-40a5-8cdc-001376c3d010"
   },
   "outputs": [
    {
     "name": "stdout",
     "output_type": "stream",
     "text": [
      "Epoch 1/80\n",
      "20/20 [==============================] - 0s 23ms/step - loss: 1.0003 - val_loss: 1.1500\n",
      "Epoch 2/80\n",
      "20/20 [==============================] - 0s 7ms/step - loss: 1.0022 - val_loss: 1.1805\n",
      "Epoch 3/80\n",
      "20/20 [==============================] - 0s 7ms/step - loss: 1.0089 - val_loss: 1.1866\n",
      "Epoch 4/80\n",
      "20/20 [==============================] - 0s 7ms/step - loss: 0.9774 - val_loss: 1.1905\n",
      "Epoch 5/80\n",
      "20/20 [==============================] - 0s 7ms/step - loss: 0.9995 - val_loss: 1.1975\n",
      "Epoch 6/80\n",
      "20/20 [==============================] - 0s 7ms/step - loss: 1.0101 - val_loss: 1.1595\n",
      "Epoch 7/80\n",
      "20/20 [==============================] - 0s 7ms/step - loss: 0.9946 - val_loss: 1.1705\n",
      "Epoch 8/80\n",
      "20/20 [==============================] - 0s 7ms/step - loss: 0.9830 - val_loss: 1.2265\n",
      "Epoch 9/80\n",
      "20/20 [==============================] - 0s 7ms/step - loss: 0.9853 - val_loss: 1.1906\n",
      "Epoch 10/80\n",
      "20/20 [==============================] - 0s 7ms/step - loss: 0.9567 - val_loss: 1.2005\n",
      "Epoch 11/80\n",
      "20/20 [==============================] - 0s 7ms/step - loss: 0.9511 - val_loss: 1.2909\n",
      "Epoch 12/80\n",
      "20/20 [==============================] - 0s 7ms/step - loss: 0.9635 - val_loss: 1.1787\n",
      "Epoch 13/80\n",
      "20/20 [==============================] - 0s 8ms/step - loss: 0.9648 - val_loss: 1.1983\n",
      "Epoch 14/80\n",
      "20/20 [==============================] - 0s 8ms/step - loss: 0.9595 - val_loss: 1.1807\n",
      "Epoch 15/80\n",
      "20/20 [==============================] - 0s 7ms/step - loss: 0.9697 - val_loss: 1.2019\n",
      "Epoch 16/80\n",
      "20/20 [==============================] - 0s 7ms/step - loss: 0.9801 - val_loss: 1.3291\n",
      "Epoch 17/80\n",
      "20/20 [==============================] - 0s 7ms/step - loss: 0.9988 - val_loss: 1.2112\n",
      "Epoch 18/80\n",
      "20/20 [==============================] - 0s 8ms/step - loss: 0.9797 - val_loss: 1.2595\n",
      "Epoch 19/80\n",
      "20/20 [==============================] - 0s 7ms/step - loss: 0.9626 - val_loss: 1.1710\n",
      "Epoch 20/80\n",
      "20/20 [==============================] - 0s 7ms/step - loss: 0.9421 - val_loss: 1.2848\n",
      "Epoch 21/80\n",
      "20/20 [==============================] - 0s 7ms/step - loss: 0.9356 - val_loss: 1.2831\n",
      "Epoch 22/80\n",
      "20/20 [==============================] - 0s 7ms/step - loss: 0.9274 - val_loss: 1.2370\n",
      "Epoch 23/80\n",
      "20/20 [==============================] - 0s 8ms/step - loss: 0.9554 - val_loss: 1.2081\n",
      "Epoch 24/80\n",
      "20/20 [==============================] - 0s 7ms/step - loss: 0.9788 - val_loss: 1.2634\n",
      "Epoch 25/80\n",
      "20/20 [==============================] - 0s 7ms/step - loss: 0.9839 - val_loss: 1.1904\n",
      "Epoch 26/80\n",
      "20/20 [==============================] - 0s 7ms/step - loss: 0.9372 - val_loss: 1.2543\n",
      "Epoch 27/80\n",
      "20/20 [==============================] - 0s 8ms/step - loss: 0.9465 - val_loss: 1.2718\n",
      "Epoch 28/80\n",
      "20/20 [==============================] - 0s 7ms/step - loss: 0.9594 - val_loss: 1.3752\n",
      "Epoch 29/80\n",
      "20/20 [==============================] - 0s 7ms/step - loss: 0.9400 - val_loss: 1.2861\n",
      "Epoch 30/80\n",
      "20/20 [==============================] - 0s 7ms/step - loss: 0.9200 - val_loss: 1.3165\n",
      "Epoch 31/80\n",
      "20/20 [==============================] - 0s 7ms/step - loss: 0.9339 - val_loss: 1.2726\n",
      "Epoch 32/80\n",
      "20/20 [==============================] - 0s 7ms/step - loss: 0.9344 - val_loss: 1.3649\n",
      "Epoch 33/80\n",
      "20/20 [==============================] - 0s 7ms/step - loss: 0.9268 - val_loss: 1.2787\n",
      "Epoch 34/80\n",
      "20/20 [==============================] - 0s 7ms/step - loss: 0.9132 - val_loss: 1.2818\n",
      "Epoch 35/80\n",
      "20/20 [==============================] - 0s 7ms/step - loss: 0.9491 - val_loss: 1.2518\n",
      "Epoch 36/80\n",
      "20/20 [==============================] - 0s 7ms/step - loss: 0.9618 - val_loss: 1.2713\n",
      "Epoch 37/80\n",
      "20/20 [==============================] - 0s 7ms/step - loss: 0.9247 - val_loss: 1.3061\n",
      "Epoch 38/80\n",
      "20/20 [==============================] - 0s 7ms/step - loss: 0.9071 - val_loss: 1.3582\n",
      "Epoch 39/80\n",
      "20/20 [==============================] - 0s 7ms/step - loss: 0.9195 - val_loss: 1.2558\n",
      "Epoch 40/80\n",
      "20/20 [==============================] - 0s 7ms/step - loss: 0.9331 - val_loss: 1.2700\n",
      "Epoch 41/80\n",
      "20/20 [==============================] - 0s 8ms/step - loss: 0.9146 - val_loss: 1.2791\n",
      "Epoch 42/80\n",
      "20/20 [==============================] - 0s 8ms/step - loss: 0.9328 - val_loss: 1.3292\n",
      "Epoch 43/80\n",
      "20/20 [==============================] - 0s 8ms/step - loss: 0.9229 - val_loss: 1.3433\n",
      "Epoch 44/80\n",
      "20/20 [==============================] - 0s 7ms/step - loss: 0.9461 - val_loss: 1.3078\n",
      "Epoch 45/80\n",
      "20/20 [==============================] - 0s 7ms/step - loss: 0.9172 - val_loss: 1.3541\n",
      "Epoch 46/80\n",
      "20/20 [==============================] - 0s 7ms/step - loss: 0.9248 - val_loss: 1.2704\n",
      "Epoch 47/80\n",
      "20/20 [==============================] - 0s 7ms/step - loss: 0.9109 - val_loss: 1.2748\n",
      "Epoch 48/80\n",
      "20/20 [==============================] - 0s 8ms/step - loss: 0.9182 - val_loss: 1.2591\n",
      "Epoch 49/80\n",
      "20/20 [==============================] - 0s 7ms/step - loss: 0.9082 - val_loss: 1.3250\n",
      "Epoch 50/80\n",
      "20/20 [==============================] - 0s 7ms/step - loss: 0.9526 - val_loss: 1.2444\n",
      "Epoch 51/80\n",
      "20/20 [==============================] - 0s 7ms/step - loss: 1.0190 - val_loss: 1.1783\n",
      "Epoch 52/80\n",
      "20/20 [==============================] - 0s 7ms/step - loss: 0.9907 - val_loss: 1.2646\n",
      "Epoch 53/80\n",
      "20/20 [==============================] - 0s 7ms/step - loss: 0.9807 - val_loss: 1.1918\n",
      "Epoch 54/80\n",
      "20/20 [==============================] - 0s 8ms/step - loss: 0.9731 - val_loss: 1.2459\n",
      "Epoch 55/80\n",
      "20/20 [==============================] - 0s 7ms/step - loss: 0.9907 - val_loss: 1.1739\n",
      "Epoch 56/80\n",
      "20/20 [==============================] - 0s 8ms/step - loss: 1.0657 - val_loss: 1.1867\n",
      "Epoch 57/80\n",
      "20/20 [==============================] - 0s 7ms/step - loss: 0.9838 - val_loss: 1.2457\n",
      "Epoch 58/80\n",
      "20/20 [==============================] - 0s 7ms/step - loss: 0.9354 - val_loss: 1.2760\n",
      "Epoch 59/80\n",
      "20/20 [==============================] - 0s 7ms/step - loss: 0.9190 - val_loss: 1.2482\n",
      "Epoch 60/80\n",
      "20/20 [==============================] - 0s 8ms/step - loss: 0.9183 - val_loss: 1.3728\n",
      "Epoch 61/80\n",
      "20/20 [==============================] - 0s 8ms/step - loss: 0.9342 - val_loss: 1.2275\n",
      "Epoch 62/80\n",
      "20/20 [==============================] - 0s 7ms/step - loss: 0.9530 - val_loss: 1.2341\n",
      "Epoch 63/80\n",
      "20/20 [==============================] - 0s 7ms/step - loss: 0.9669 - val_loss: 1.2589\n",
      "Epoch 64/80\n",
      "20/20 [==============================] - 0s 7ms/step - loss: 0.9548 - val_loss: 1.3325\n",
      "Epoch 65/80\n",
      "20/20 [==============================] - 0s 8ms/step - loss: 0.9776 - val_loss: 1.2365\n",
      "Epoch 66/80\n",
      "20/20 [==============================] - 0s 7ms/step - loss: 0.9482 - val_loss: 1.2762\n",
      "Epoch 67/80\n",
      "20/20 [==============================] - 0s 8ms/step - loss: 0.9437 - val_loss: 1.3253\n",
      "Epoch 68/80\n",
      "20/20 [==============================] - 0s 7ms/step - loss: 0.9289 - val_loss: 1.2755\n",
      "Epoch 69/80\n",
      "20/20 [==============================] - 0s 7ms/step - loss: 0.9126 - val_loss: 1.3114\n",
      "Epoch 70/80\n",
      "20/20 [==============================] - 0s 7ms/step - loss: 0.8952 - val_loss: 1.3064\n",
      "Epoch 71/80\n",
      "20/20 [==============================] - 0s 7ms/step - loss: 0.9007 - val_loss: 1.3904\n",
      "Epoch 72/80\n",
      "20/20 [==============================] - 0s 7ms/step - loss: 0.8910 - val_loss: 1.2964\n",
      "Epoch 73/80\n",
      "20/20 [==============================] - 0s 8ms/step - loss: 0.8848 - val_loss: 1.3871\n",
      "Epoch 74/80\n",
      "20/20 [==============================] - 0s 7ms/step - loss: 0.9088 - val_loss: 1.2823\n",
      "Epoch 75/80\n",
      "20/20 [==============================] - 0s 7ms/step - loss: 0.8964 - val_loss: 1.3840\n",
      "Epoch 76/80\n",
      "20/20 [==============================] - 0s 7ms/step - loss: 0.9006 - val_loss: 1.2979\n",
      "Epoch 77/80\n",
      "20/20 [==============================] - 0s 7ms/step - loss: 0.8781 - val_loss: 1.3708\n",
      "Epoch 78/80\n",
      "20/20 [==============================] - 0s 7ms/step - loss: 0.8868 - val_loss: 1.3612\n",
      "Epoch 79/80\n",
      "20/20 [==============================] - 0s 7ms/step - loss: 0.8789 - val_loss: 1.3597\n",
      "Epoch 80/80\n",
      "20/20 [==============================] - 0s 7ms/step - loss: 0.8750 - val_loss: 1.3163\n"
     ]
    }
   ],
   "source": [
    "### try autoregressive RNN model\n",
    "i = Input(shape=(T, 1))\n",
    "x = LSTM(5)(i)\n",
    "x = Dense(1)(x)\n",
    "model = Model(i, x)\n",
    "model.compile(\n",
    "    loss='mse',\n",
    "    optimizer=Adam(lr=0.1)\n",
    ")\n",
    "\n",
    "# train the RNN\n",
    "r = model.fit(\n",
    "    X[:-N//2], Y[:-N//2],\n",
    "    epochs=80,\n",
    "    validation_data=(X[-N//2:], Y[-N//2:]),\n",
    ")"
   ]
  },
  {
   "cell_type": "code",
   "execution_count": 0,
   "metadata": {
    "colab": {
     "base_uri": "https://localhost:8080/",
     "height": 282
    },
    "colab_type": "code",
    "id": "vYacDLhxdgua",
    "outputId": "f71e71e9-6b71-4093-e83d-91a441336ecc"
   },
   "outputs": [
    {
     "data": {
      "text/plain": [
       "<matplotlib.legend.Legend at 0x7f8b162987f0>"
      ]
     },
     "execution_count": 23,
     "metadata": {
      "tags": []
     },
     "output_type": "execute_result"
    },
    {
     "data": {
      "image/png": "[encoded data removed]",
      "text/plain": [
       "<Figure size 432x288 with 1 Axes>"
      ]
     },
     "metadata": {
      "needs_background": "light",
      "tags": []
     },
     "output_type": "display_data"
    }
   ],
   "source": [
    "# plot accuracy per iteration\n",
    "plt.plot(r.history['loss'], label='loss')\n",
    "plt.plot(r.history['val_loss'], label='val_loss')\n",
    "plt.legend()"
   ]
  },
  {
   "cell_type": "code",
   "execution_count": 0,
   "metadata": {
    "colab": {
     "base_uri": "https://localhost:8080/",
     "height": 282
    },
    "colab_type": "code",
    "id": "LhocvdXqdroK",
    "outputId": "797fc1b0-8454-4510-8d39-53b311c0035e"
   },
   "outputs": [
    {
     "name": "stdout",
     "output_type": "stream",
     "text": [
      "(1248, 1)\n"
     ]
    },
    {
     "data": {
      "image/png": "[encoded data removed]",
      "text/plain": [
       "<Figure size 432x288 with 1 Axes>"
      ]
     },
     "metadata": {
      "needs_background": "light",
      "tags": []
     },
     "output_type": "display_data"
    }
   ],
   "source": [
    "# One-step forecast using true targets\n",
    "outputs = model.predict(X)\n",
    "print(outputs.shape)\n",
    "predictions = outputs[:, 0]\n",
    "\n",
    "plt.plot(Y, label='targets')\n",
    "plt.plot(predictions, label='predictions')\n",
    "plt.legend()\n",
    "plt.show()"
   ]
  },
  {
   "cell_type": "code",
   "execution_count": 0,
   "metadata": {
    "colab": {
     "base_uri": "https://localhost:8080/",
     "height": 282
    },
    "colab_type": "code",
    "id": "4UHl9Vikd7s3",
    "outputId": "a3764a7d-5017-4805-c0f6-62db81d83cf5"
   },
   "outputs": [
    {
     "data": {
      "text/plain": [
       "<matplotlib.legend.Legend at 0x7f8b173e9f60>"
      ]
     },
     "execution_count": 25,
     "metadata": {
      "tags": []
     },
     "output_type": "execute_result"
    },
    {
     "data": {
      "image/png": "[encoded data removed]",
      "text/plain": [
       "<Figure size 432x288 with 1 Axes>"
      ]
     },
     "metadata": {
      "needs_background": "light",
      "tags": []
     },
     "output_type": "display_data"
    }
   ],
   "source": [
    "# Multi-step forecast\n",
    "validation_target = Y[-N//2:]\n",
    "validation_predictions = []\n",
    "\n",
    "# last train input\n",
    "last_x = X[-N//2] # 1-D array of length T\n",
    "\n",
    "while len(validation_predictions) < len(validation_target):\n",
    "  p = model.predict(last_x.reshape(1, T, 1))[0,0] # 1x1 array -> scalar\n",
    "\n",
    "  # update the predictions list\n",
    "  validation_predictions.append(p)\n",
    "\n",
    "  # make the new input\n",
    "  last_x = np.roll(last_x, -1)\n",
    "  last_x[-1] = p\n",
    "\n",
    "plt.plot(validation_target, label='forecast target')\n",
    "plt.plot(validation_predictions, label='forecast prediction')\n",
    "plt.legend()"
   ]
  },
  {
   "cell_type": "code",
   "execution_count": 0,
   "metadata": {
    "colab": {},
    "colab_type": "code",
    "id": "4coM4e0GeMtV"
   },
   "outputs": [],
   "source": [
    "# Now turn the full data into numpy arrays\n",
    "\n",
    "# Not yet in the final \"X\" format\n",
    "input_data = df[['open', 'high', 'low', 'close', 'volume']].values\n",
    "targets = df['Return'].values"
   ]
  },
  {
   "cell_type": "code",
   "execution_count": 0,
   "metadata": {
    "colab": {},
    "colab_type": "code",
    "id": "rsg9kR83fD4J"
   },
   "outputs": [],
   "source": [
    "# Now make the actual data which will go into the nerual network\n",
    "T = 10 # the number of time steps to look at to make a prediction for the next day\n",
    "D = input_data.shape[1]\n",
    "N = len(input_data) - T # (e.g. if T=10 and you have 11 data points then you'd only have 1 same thing)"
   ]
  },
  {
   "cell_type": "code",
   "execution_count": 0,
   "metadata": {
    "colab": {},
    "colab_type": "code",
    "id": "J6FffWSmf7KH"
   },
   "outputs": [],
   "source": [
    "# normalize the inputs\n",
    "Ntrain = len(input_data) * 2// 3\n",
    "scaler = StandardScaler()\n",
    "scaler.fit(input_data[:Ntrain + T])\n",
    "input_data = scaler.transform(input_data)"
   ]
  },
  {
   "cell_type": "code",
   "execution_count": 0,
   "metadata": {
    "colab": {},
    "colab_type": "code",
    "id": "r-O-nVBXgMCO"
   },
   "outputs": [],
   "source": [
    "# Setup X_train and Y_train\n",
    "X_train = np.zeros((Ntrain, T, D))\n",
    "Y_train = np.zeros(Ntrain)\n",
    "\n",
    "for t in range(Ntrain):\n",
    "  X_train[t, :, :] = input_data[t:t+T]\n",
    "  Y_train[t] = (targets[t+T] > 0)"
   ]
  },
  {
   "cell_type": "code",
   "execution_count": 0,
   "metadata": {
    "colab": {},
    "colab_type": "code",
    "id": "iIku2lEmgcaU"
   },
   "outputs": [],
   "source": [
    "# Setup X_test and Y_test\n",
    "X_test = np.zeros((N - Ntrain, T, D))\n",
    "Y_test = np.zeros(N -Ntrain)\n",
    "\n",
    "for u in range(N - Ntrain):\n",
    "  # u counts from 0...(N-Ntrain)\n",
    "  # t counts from Ntrain...N\n",
    "  t = u + Ntrain\n",
    "  X_test[u, :, :] = input_data[t:t+T]\n",
    "  Y_test[u] = (targets[t+T] > 0)"
   ]
  },
  {
   "cell_type": "code",
   "execution_count": 0,
   "metadata": {
    "colab": {},
    "colab_type": "code",
    "id": "vWQ7JNCThCGy"
   },
   "outputs": [],
   "source": [
    "# make the RNN\n",
    "i = Input(shape=(T, D))\n",
    "x = LSTM(50)(i)\n",
    "x = Dense(1, activation='sigmoid')(x)\n",
    "model = Model(i, x)\n",
    "model.compile(\n",
    "    loss='binary_crossentropy',\n",
    "    optimizer=Adam(lr=0.001),\n",
    "    metrics=['accuracy']\n",
    ")\n"
   ]
  },
  {
   "cell_type": "code",
   "execution_count": 0,
   "metadata": {
    "colab": {
     "base_uri": "https://localhost:8080/",
     "height": 1000
    },
    "colab_type": "code",
    "id": "N3jE4YxLhk29",
    "outputId": "fd09563f-0f32-49bc-815f-2ab579e741c0"
   },
   "outputs": [
    {
     "name": "stdout",
     "output_type": "stream",
     "text": [
      "Epoch 1/300\n",
      "27/27 [==============================] - 1s 27ms/step - loss: 0.6978 - accuracy: 0.4732 - val_loss: 0.6949 - val_accuracy: 0.4854\n",
      "Epoch 2/300\n",
      "27/27 [==============================] - 0s 7ms/step - loss: 0.6930 - accuracy: 0.5161 - val_loss: 0.6961 - val_accuracy: 0.4829\n",
      "Epoch 3/300\n",
      "27/27 [==============================] - 0s 7ms/step - loss: 0.6919 - accuracy: 0.5232 - val_loss: 0.6926 - val_accuracy: 0.5024\n",
      "Epoch 4/300\n",
      "27/27 [==============================] - 0s 7ms/step - loss: 0.6911 - accuracy: 0.5173 - val_loss: 0.6926 - val_accuracy: 0.5024\n",
      "Epoch 5/300\n",
      "27/27 [==============================] - 0s 7ms/step - loss: 0.6917 - accuracy: 0.5256 - val_loss: 0.6978 - val_accuracy: 0.4878\n",
      "Epoch 6/300\n",
      "27/27 [==============================] - 0s 7ms/step - loss: 0.6918 - accuracy: 0.5149 - val_loss: 0.6958 - val_accuracy: 0.4878\n",
      "Epoch 7/300\n",
      "27/27 [==============================] - 0s 7ms/step - loss: 0.6919 - accuracy: 0.5256 - val_loss: 0.6923 - val_accuracy: 0.5049\n",
      "Epoch 8/300\n",
      "27/27 [==============================] - 0s 7ms/step - loss: 0.6908 - accuracy: 0.5221 - val_loss: 0.6917 - val_accuracy: 0.5220\n",
      "Epoch 9/300\n",
      "27/27 [==============================] - 0s 7ms/step - loss: 0.6885 - accuracy: 0.5316 - val_loss: 0.6990 - val_accuracy: 0.4927\n",
      "Epoch 10/300\n",
      "27/27 [==============================] - 0s 7ms/step - loss: 0.6889 - accuracy: 0.5399 - val_loss: 0.6920 - val_accuracy: 0.5171\n",
      "Epoch 11/300\n",
      "27/27 [==============================] - 0s 7ms/step - loss: 0.6896 - accuracy: 0.5197 - val_loss: 0.6964 - val_accuracy: 0.5024\n",
      "Epoch 12/300\n",
      "27/27 [==============================] - 0s 7ms/step - loss: 0.6889 - accuracy: 0.5411 - val_loss: 0.6930 - val_accuracy: 0.4805\n",
      "Epoch 13/300\n",
      "27/27 [==============================] - 0s 7ms/step - loss: 0.6881 - accuracy: 0.5387 - val_loss: 0.6900 - val_accuracy: 0.5439\n",
      "Epoch 14/300\n",
      "27/27 [==============================] - 0s 7ms/step - loss: 0.6885 - accuracy: 0.5340 - val_loss: 0.6919 - val_accuracy: 0.5268\n",
      "Epoch 15/300\n",
      "27/27 [==============================] - 0s 7ms/step - loss: 0.6895 - accuracy: 0.5495 - val_loss: 0.6951 - val_accuracy: 0.5000\n",
      "Epoch 16/300\n",
      "27/27 [==============================] - 0s 7ms/step - loss: 0.6881 - accuracy: 0.5399 - val_loss: 0.6924 - val_accuracy: 0.5049\n",
      "Epoch 17/300\n",
      "27/27 [==============================] - 0s 7ms/step - loss: 0.6860 - accuracy: 0.5352 - val_loss: 0.6915 - val_accuracy: 0.5195\n",
      "Epoch 18/300\n",
      "27/27 [==============================] - 0s 7ms/step - loss: 0.6861 - accuracy: 0.5530 - val_loss: 0.6963 - val_accuracy: 0.4902\n",
      "Epoch 19/300\n",
      "27/27 [==============================] - 0s 7ms/step - loss: 0.6869 - accuracy: 0.5411 - val_loss: 0.6909 - val_accuracy: 0.5341\n",
      "Epoch 20/300\n",
      "27/27 [==============================] - 0s 7ms/step - loss: 0.6876 - accuracy: 0.5411 - val_loss: 0.6962 - val_accuracy: 0.4854\n",
      "Epoch 21/300\n",
      "27/27 [==============================] - 0s 7ms/step - loss: 0.6841 - accuracy: 0.5566 - val_loss: 0.6931 - val_accuracy: 0.5293\n",
      "Epoch 22/300\n",
      "27/27 [==============================] - 0s 8ms/step - loss: 0.6867 - accuracy: 0.5483 - val_loss: 0.6918 - val_accuracy: 0.5244\n",
      "Epoch 23/300\n",
      "27/27 [==============================] - 0s 7ms/step - loss: 0.6848 - accuracy: 0.5566 - val_loss: 0.6935 - val_accuracy: 0.5220\n",
      "Epoch 24/300\n",
      "27/27 [==============================] - 0s 7ms/step - loss: 0.6863 - accuracy: 0.5626 - val_loss: 0.6949 - val_accuracy: 0.4976\n",
      "Epoch 25/300\n",
      "27/27 [==============================] - 0s 8ms/step - loss: 0.6833 - accuracy: 0.5566 - val_loss: 0.6920 - val_accuracy: 0.5268\n",
      "Epoch 26/300\n",
      "27/27 [==============================] - 0s 7ms/step - loss: 0.6841 - accuracy: 0.5554 - val_loss: 0.6995 - val_accuracy: 0.5098\n",
      "Epoch 27/300\n",
      "27/27 [==============================] - 0s 7ms/step - loss: 0.6879 - accuracy: 0.5518 - val_loss: 0.6975 - val_accuracy: 0.4927\n",
      "Epoch 28/300\n",
      "27/27 [==============================] - 0s 7ms/step - loss: 0.6822 - accuracy: 0.5638 - val_loss: 0.6922 - val_accuracy: 0.5366\n",
      "Epoch 29/300\n",
      "27/27 [==============================] - 0s 7ms/step - loss: 0.6833 - accuracy: 0.5638 - val_loss: 0.6940 - val_accuracy: 0.5244\n",
      "Epoch 30/300\n",
      "27/27 [==============================] - 0s 7ms/step - loss: 0.6848 - accuracy: 0.5566 - val_loss: 0.6954 - val_accuracy: 0.5171\n",
      "Epoch 31/300\n",
      "27/27 [==============================] - 0s 7ms/step - loss: 0.6791 - accuracy: 0.5816 - val_loss: 0.6933 - val_accuracy: 0.5415\n",
      "Epoch 32/300\n",
      "27/27 [==============================] - 0s 7ms/step - loss: 0.6798 - accuracy: 0.5852 - val_loss: 0.7024 - val_accuracy: 0.5073\n",
      "Epoch 33/300\n",
      "27/27 [==============================] - 0s 7ms/step - loss: 0.6822 - accuracy: 0.5948 - val_loss: 0.7029 - val_accuracy: 0.5024\n",
      "Epoch 34/300\n",
      "27/27 [==============================] - 0s 7ms/step - loss: 0.6851 - accuracy: 0.5685 - val_loss: 0.6946 - val_accuracy: 0.5268\n",
      "Epoch 35/300\n",
      "27/27 [==============================] - 0s 7ms/step - loss: 0.6818 - accuracy: 0.5697 - val_loss: 0.6990 - val_accuracy: 0.4927\n",
      "Epoch 36/300\n",
      "27/27 [==============================] - 0s 7ms/step - loss: 0.6794 - accuracy: 0.5733 - val_loss: 0.6952 - val_accuracy: 0.5195\n",
      "Epoch 37/300\n",
      "27/27 [==============================] - 0s 7ms/step - loss: 0.6796 - accuracy: 0.5590 - val_loss: 0.6952 - val_accuracy: 0.5341\n",
      "Epoch 38/300\n",
      "27/27 [==============================] - 0s 7ms/step - loss: 0.6792 - accuracy: 0.5685 - val_loss: 0.6982 - val_accuracy: 0.5146\n",
      "Epoch 39/300\n",
      "27/27 [==============================] - 0s 7ms/step - loss: 0.6784 - accuracy: 0.5662 - val_loss: 0.6993 - val_accuracy: 0.5146\n",
      "Epoch 40/300\n",
      "27/27 [==============================] - 0s 7ms/step - loss: 0.6839 - accuracy: 0.5566 - val_loss: 0.6992 - val_accuracy: 0.4780\n",
      "Epoch 41/300\n",
      "27/27 [==============================] - 0s 7ms/step - loss: 0.6786 - accuracy: 0.5566 - val_loss: 0.6955 - val_accuracy: 0.5098\n",
      "Epoch 42/300\n",
      "27/27 [==============================] - 0s 7ms/step - loss: 0.6785 - accuracy: 0.5709 - val_loss: 0.6984 - val_accuracy: 0.4976\n",
      "Epoch 43/300\n",
      "27/27 [==============================] - 0s 7ms/step - loss: 0.6782 - accuracy: 0.5566 - val_loss: 0.6975 - val_accuracy: 0.5268\n",
      "Epoch 44/300\n",
      "27/27 [==============================] - 0s 7ms/step - loss: 0.6794 - accuracy: 0.5721 - val_loss: 0.6983 - val_accuracy: 0.5268\n",
      "Epoch 45/300\n",
      "27/27 [==============================] - 0s 7ms/step - loss: 0.6758 - accuracy: 0.5721 - val_loss: 0.6973 - val_accuracy: 0.5244\n",
      "Epoch 46/300\n",
      "27/27 [==============================] - 0s 7ms/step - loss: 0.6749 - accuracy: 0.5733 - val_loss: 0.6996 - val_accuracy: 0.5073\n",
      "Epoch 47/300\n",
      "27/27 [==============================] - 0s 8ms/step - loss: 0.6742 - accuracy: 0.5733 - val_loss: 0.7018 - val_accuracy: 0.4976\n",
      "Epoch 48/300\n",
      "27/27 [==============================] - 0s 7ms/step - loss: 0.6706 - accuracy: 0.5614 - val_loss: 0.6974 - val_accuracy: 0.5146\n",
      "Epoch 49/300\n",
      "27/27 [==============================] - 0s 7ms/step - loss: 0.6722 - accuracy: 0.5769 - val_loss: 0.7002 - val_accuracy: 0.5024\n",
      "Epoch 50/300\n",
      "27/27 [==============================] - 0s 7ms/step - loss: 0.6715 - accuracy: 0.5650 - val_loss: 0.7031 - val_accuracy: 0.5024\n",
      "Epoch 51/300\n",
      "27/27 [==============================] - 0s 8ms/step - loss: 0.6740 - accuracy: 0.5733 - val_loss: 0.7029 - val_accuracy: 0.4854\n",
      "Epoch 52/300\n",
      "27/27 [==============================] - 0s 8ms/step - loss: 0.6724 - accuracy: 0.5578 - val_loss: 0.6981 - val_accuracy: 0.4878\n",
      "Epoch 53/300\n",
      "27/27 [==============================] - 0s 7ms/step - loss: 0.6708 - accuracy: 0.5626 - val_loss: 0.7018 - val_accuracy: 0.5098\n",
      "Epoch 54/300\n",
      "27/27 [==============================] - 0s 8ms/step - loss: 0.6695 - accuracy: 0.5709 - val_loss: 0.7050 - val_accuracy: 0.4976\n",
      "Epoch 55/300\n",
      "27/27 [==============================] - 0s 8ms/step - loss: 0.6722 - accuracy: 0.5673 - val_loss: 0.7035 - val_accuracy: 0.5000\n",
      "Epoch 56/300\n",
      "27/27 [==============================] - 0s 8ms/step - loss: 0.6745 - accuracy: 0.5685 - val_loss: 0.7008 - val_accuracy: 0.5024\n",
      "Epoch 57/300\n",
      "27/27 [==============================] - 0s 8ms/step - loss: 0.6686 - accuracy: 0.5626 - val_loss: 0.7061 - val_accuracy: 0.4951\n",
      "Epoch 58/300\n",
      "27/27 [==============================] - 0s 7ms/step - loss: 0.6666 - accuracy: 0.5840 - val_loss: 0.7022 - val_accuracy: 0.4976\n",
      "Epoch 59/300\n",
      "27/27 [==============================] - 0s 7ms/step - loss: 0.6713 - accuracy: 0.5793 - val_loss: 0.7075 - val_accuracy: 0.4976\n",
      "Epoch 60/300\n",
      "27/27 [==============================] - 0s 7ms/step - loss: 0.6663 - accuracy: 0.5936 - val_loss: 0.7029 - val_accuracy: 0.4927\n",
      "Epoch 61/300\n",
      "27/27 [==============================] - 0s 8ms/step - loss: 0.6630 - accuracy: 0.5828 - val_loss: 0.7023 - val_accuracy: 0.4951\n",
      "Epoch 62/300\n",
      "27/27 [==============================] - 0s 7ms/step - loss: 0.6640 - accuracy: 0.5912 - val_loss: 0.7048 - val_accuracy: 0.4878\n",
      "Epoch 63/300\n",
      "27/27 [==============================] - 0s 7ms/step - loss: 0.6671 - accuracy: 0.5888 - val_loss: 0.7060 - val_accuracy: 0.4829\n",
      "Epoch 64/300\n",
      "27/27 [==============================] - 0s 7ms/step - loss: 0.6632 - accuracy: 0.5816 - val_loss: 0.7050 - val_accuracy: 0.4854\n",
      "Epoch 65/300\n",
      "27/27 [==============================] - 0s 7ms/step - loss: 0.6620 - accuracy: 0.5888 - val_loss: 0.7022 - val_accuracy: 0.4805\n",
      "Epoch 66/300\n",
      "27/27 [==============================] - 0s 7ms/step - loss: 0.6614 - accuracy: 0.5983 - val_loss: 0.7105 - val_accuracy: 0.4829\n",
      "Epoch 67/300\n",
      "27/27 [==============================] - 0s 7ms/step - loss: 0.6617 - accuracy: 0.5888 - val_loss: 0.7064 - val_accuracy: 0.5000\n",
      "Epoch 68/300\n",
      "27/27 [==============================] - 0s 8ms/step - loss: 0.6599 - accuracy: 0.5745 - val_loss: 0.7115 - val_accuracy: 0.4951\n",
      "Epoch 69/300\n",
      "27/27 [==============================] - 0s 8ms/step - loss: 0.6600 - accuracy: 0.5948 - val_loss: 0.7094 - val_accuracy: 0.4902\n",
      "Epoch 70/300\n",
      "27/27 [==============================] - 0s 8ms/step - loss: 0.6586 - accuracy: 0.5864 - val_loss: 0.7089 - val_accuracy: 0.4780\n",
      "Epoch 71/300\n",
      "27/27 [==============================] - 0s 7ms/step - loss: 0.6545 - accuracy: 0.5852 - val_loss: 0.7073 - val_accuracy: 0.4854\n",
      "Epoch 72/300\n",
      "27/27 [==============================] - 0s 7ms/step - loss: 0.6524 - accuracy: 0.5864 - val_loss: 0.7100 - val_accuracy: 0.4927\n",
      "Epoch 73/300\n",
      "27/27 [==============================] - 0s 7ms/step - loss: 0.6580 - accuracy: 0.5912 - val_loss: 0.7201 - val_accuracy: 0.4780\n",
      "Epoch 74/300\n",
      "27/27 [==============================] - 0s 8ms/step - loss: 0.6560 - accuracy: 0.6019 - val_loss: 0.7130 - val_accuracy: 0.4829\n",
      "Epoch 75/300\n",
      "27/27 [==============================] - 0s 8ms/step - loss: 0.6554 - accuracy: 0.5936 - val_loss: 0.7149 - val_accuracy: 0.4878\n",
      "Epoch 76/300\n",
      "27/27 [==============================] - 0s 7ms/step - loss: 0.6506 - accuracy: 0.5936 - val_loss: 0.7115 - val_accuracy: 0.4902\n",
      "Epoch 77/300\n",
      "27/27 [==============================] - 0s 7ms/step - loss: 0.6546 - accuracy: 0.6019 - val_loss: 0.7156 - val_accuracy: 0.4951\n",
      "Epoch 78/300\n",
      "27/27 [==============================] - 0s 7ms/step - loss: 0.6484 - accuracy: 0.5948 - val_loss: 0.7187 - val_accuracy: 0.4829\n",
      "Epoch 79/300\n",
      "27/27 [==============================] - 0s 8ms/step - loss: 0.6508 - accuracy: 0.6019 - val_loss: 0.7241 - val_accuracy: 0.4805\n",
      "Epoch 80/300\n",
      "27/27 [==============================] - 0s 7ms/step - loss: 0.6492 - accuracy: 0.5983 - val_loss: 0.7136 - val_accuracy: 0.4878\n",
      "Epoch 81/300\n",
      "27/27 [==============================] - 0s 7ms/step - loss: 0.6473 - accuracy: 0.6138 - val_loss: 0.7294 - val_accuracy: 0.4951\n",
      "Epoch 82/300\n",
      "27/27 [==============================] - 0s 8ms/step - loss: 0.6441 - accuracy: 0.6138 - val_loss: 0.7328 - val_accuracy: 0.4829\n",
      "Epoch 83/300\n",
      "27/27 [==============================] - 0s 7ms/step - loss: 0.6418 - accuracy: 0.6019 - val_loss: 0.7233 - val_accuracy: 0.4756\n",
      "Epoch 84/300\n",
      "27/27 [==============================] - 0s 8ms/step - loss: 0.6442 - accuracy: 0.6007 - val_loss: 0.7193 - val_accuracy: 0.4659\n",
      "Epoch 85/300\n",
      "27/27 [==============================] - 0s 8ms/step - loss: 0.6408 - accuracy: 0.6114 - val_loss: 0.7262 - val_accuracy: 0.4829\n",
      "Epoch 86/300\n",
      "27/27 [==============================] - 0s 8ms/step - loss: 0.6403 - accuracy: 0.6246 - val_loss: 0.7243 - val_accuracy: 0.4732\n",
      "Epoch 87/300\n",
      "27/27 [==============================] - 0s 7ms/step - loss: 0.6411 - accuracy: 0.6126 - val_loss: 0.7365 - val_accuracy: 0.4805\n",
      "Epoch 88/300\n",
      "27/27 [==============================] - 0s 7ms/step - loss: 0.6350 - accuracy: 0.6067 - val_loss: 0.7256 - val_accuracy: 0.4707\n",
      "Epoch 89/300\n",
      "27/27 [==============================] - 0s 8ms/step - loss: 0.6338 - accuracy: 0.6174 - val_loss: 0.7397 - val_accuracy: 0.4780\n",
      "Epoch 90/300\n",
      "27/27 [==============================] - 0s 7ms/step - loss: 0.6372 - accuracy: 0.6031 - val_loss: 0.7361 - val_accuracy: 0.4829\n",
      "Epoch 91/300\n",
      "27/27 [==============================] - 0s 8ms/step - loss: 0.6362 - accuracy: 0.6114 - val_loss: 0.7342 - val_accuracy: 0.4732\n",
      "Epoch 92/300\n",
      "27/27 [==============================] - 0s 7ms/step - loss: 0.6316 - accuracy: 0.6222 - val_loss: 0.7360 - val_accuracy: 0.4512\n",
      "Epoch 93/300\n",
      "27/27 [==============================] - 0s 9ms/step - loss: 0.6316 - accuracy: 0.6186 - val_loss: 0.7326 - val_accuracy: 0.4512\n",
      "Epoch 94/300\n",
      "27/27 [==============================] - 0s 8ms/step - loss: 0.6304 - accuracy: 0.6067 - val_loss: 0.7330 - val_accuracy: 0.4683\n",
      "Epoch 95/300\n",
      "27/27 [==============================] - 0s 7ms/step - loss: 0.6275 - accuracy: 0.6317 - val_loss: 0.7373 - val_accuracy: 0.4634\n",
      "Epoch 96/300\n",
      "27/27 [==============================] - 0s 7ms/step - loss: 0.6283 - accuracy: 0.6174 - val_loss: 0.7456 - val_accuracy: 0.4585\n",
      "Epoch 97/300\n",
      "27/27 [==============================] - 0s 7ms/step - loss: 0.6244 - accuracy: 0.6126 - val_loss: 0.7401 - val_accuracy: 0.4439\n",
      "Epoch 98/300\n",
      "27/27 [==============================] - 0s 8ms/step - loss: 0.6194 - accuracy: 0.6186 - val_loss: 0.7554 - val_accuracy: 0.4366\n",
      "Epoch 99/300\n",
      "27/27 [==============================] - 0s 7ms/step - loss: 0.6156 - accuracy: 0.6329 - val_loss: 0.7431 - val_accuracy: 0.4512\n",
      "Epoch 100/300\n",
      "27/27 [==============================] - 0s 7ms/step - loss: 0.6151 - accuracy: 0.6293 - val_loss: 0.7551 - val_accuracy: 0.4439\n",
      "Epoch 101/300\n",
      "27/27 [==============================] - 0s 7ms/step - loss: 0.6195 - accuracy: 0.6353 - val_loss: 0.7587 - val_accuracy: 0.4463\n",
      "Epoch 102/300\n",
      "27/27 [==============================] - 0s 7ms/step - loss: 0.6124 - accuracy: 0.6484 - val_loss: 0.7353 - val_accuracy: 0.4561\n",
      "Epoch 103/300\n",
      "27/27 [==============================] - 0s 8ms/step - loss: 0.6157 - accuracy: 0.6460 - val_loss: 0.7581 - val_accuracy: 0.4707\n",
      "Epoch 104/300\n",
      "27/27 [==============================] - 0s 7ms/step - loss: 0.6072 - accuracy: 0.6389 - val_loss: 0.7483 - val_accuracy: 0.4634\n",
      "Epoch 105/300\n",
      "27/27 [==============================] - 0s 7ms/step - loss: 0.6036 - accuracy: 0.6460 - val_loss: 0.7517 - val_accuracy: 0.4585\n",
      "Epoch 106/300\n",
      "27/27 [==============================] - 0s 7ms/step - loss: 0.5985 - accuracy: 0.6460 - val_loss: 0.7581 - val_accuracy: 0.4390\n",
      "Epoch 107/300\n",
      "27/27 [==============================] - 0s 9ms/step - loss: 0.6054 - accuracy: 0.6544 - val_loss: 0.7620 - val_accuracy: 0.4561\n",
      "Epoch 108/300\n",
      "27/27 [==============================] - 0s 8ms/step - loss: 0.6037 - accuracy: 0.6484 - val_loss: 0.7605 - val_accuracy: 0.4537\n",
      "Epoch 109/300\n",
      "27/27 [==============================] - 0s 7ms/step - loss: 0.6025 - accuracy: 0.6532 - val_loss: 0.7638 - val_accuracy: 0.4512\n",
      "Epoch 110/300\n",
      "27/27 [==============================] - 0s 7ms/step - loss: 0.6025 - accuracy: 0.6532 - val_loss: 0.7718 - val_accuracy: 0.4512\n",
      "Epoch 111/300\n",
      "27/27 [==============================] - 0s 7ms/step - loss: 0.5923 - accuracy: 0.6532 - val_loss: 0.7695 - val_accuracy: 0.4561\n",
      "Epoch 112/300\n",
      "27/27 [==============================] - 0s 8ms/step - loss: 0.5964 - accuracy: 0.6615 - val_loss: 0.7728 - val_accuracy: 0.4561\n",
      "Epoch 113/300\n",
      "27/27 [==============================] - 0s 8ms/step - loss: 0.5900 - accuracy: 0.6687 - val_loss: 0.7738 - val_accuracy: 0.4610\n",
      "Epoch 114/300\n",
      "27/27 [==============================] - 0s 7ms/step - loss: 0.5812 - accuracy: 0.6746 - val_loss: 0.7775 - val_accuracy: 0.4585\n",
      "Epoch 115/300\n",
      "27/27 [==============================] - 0s 7ms/step - loss: 0.5849 - accuracy: 0.6615 - val_loss: 0.7803 - val_accuracy: 0.4683\n",
      "Epoch 116/300\n",
      "27/27 [==============================] - 0s 7ms/step - loss: 0.5803 - accuracy: 0.6687 - val_loss: 0.7962 - val_accuracy: 0.4634\n",
      "Epoch 117/300\n",
      "27/27 [==============================] - 0s 8ms/step - loss: 0.5811 - accuracy: 0.6710 - val_loss: 0.7806 - val_accuracy: 0.4683\n",
      "Epoch 118/300\n",
      "27/27 [==============================] - 0s 7ms/step - loss: 0.5755 - accuracy: 0.6651 - val_loss: 0.7777 - val_accuracy: 0.4659\n",
      "Epoch 119/300\n",
      "27/27 [==============================] - 0s 7ms/step - loss: 0.5820 - accuracy: 0.6710 - val_loss: 0.7948 - val_accuracy: 0.4537\n",
      "Epoch 120/300\n",
      "27/27 [==============================] - 0s 8ms/step - loss: 0.5808 - accuracy: 0.6579 - val_loss: 0.7895 - val_accuracy: 0.4537\n",
      "Epoch 121/300\n",
      "27/27 [==============================] - 0s 8ms/step - loss: 0.5706 - accuracy: 0.6591 - val_loss: 0.7996 - val_accuracy: 0.4561\n",
      "Epoch 122/300\n",
      "27/27 [==============================] - 0s 8ms/step - loss: 0.5689 - accuracy: 0.6818 - val_loss: 0.7872 - val_accuracy: 0.4707\n",
      "Epoch 123/300\n",
      "27/27 [==============================] - 0s 7ms/step - loss: 0.5679 - accuracy: 0.6770 - val_loss: 0.7910 - val_accuracy: 0.4585\n",
      "Epoch 124/300\n",
      "27/27 [==============================] - 0s 7ms/step - loss: 0.5568 - accuracy: 0.6961 - val_loss: 0.7941 - val_accuracy: 0.4683\n",
      "Epoch 125/300\n",
      "27/27 [==============================] - 0s 7ms/step - loss: 0.5597 - accuracy: 0.6865 - val_loss: 0.7924 - val_accuracy: 0.4488\n",
      "Epoch 126/300\n",
      "27/27 [==============================] - 0s 8ms/step - loss: 0.5557 - accuracy: 0.6675 - val_loss: 0.8037 - val_accuracy: 0.4537\n",
      "Epoch 127/300\n",
      "27/27 [==============================] - 0s 8ms/step - loss: 0.5549 - accuracy: 0.6925 - val_loss: 0.7959 - val_accuracy: 0.4707\n",
      "Epoch 128/300\n",
      "27/27 [==============================] - 0s 7ms/step - loss: 0.5602 - accuracy: 0.6758 - val_loss: 0.8159 - val_accuracy: 0.4634\n",
      "Epoch 129/300\n",
      "27/27 [==============================] - 0s 7ms/step - loss: 0.5516 - accuracy: 0.6949 - val_loss: 0.8068 - val_accuracy: 0.4488\n",
      "Epoch 130/300\n",
      "27/27 [==============================] - 0s 8ms/step - loss: 0.5462 - accuracy: 0.6925 - val_loss: 0.8109 - val_accuracy: 0.4780\n",
      "Epoch 131/300\n",
      "27/27 [==============================] - 0s 9ms/step - loss: 0.5368 - accuracy: 0.6937 - val_loss: 0.8067 - val_accuracy: 0.4439\n",
      "Epoch 132/300\n",
      "27/27 [==============================] - 0s 7ms/step - loss: 0.5453 - accuracy: 0.6925 - val_loss: 0.8288 - val_accuracy: 0.4756\n",
      "Epoch 133/300\n",
      "27/27 [==============================] - 0s 7ms/step - loss: 0.5703 - accuracy: 0.6806 - val_loss: 0.8114 - val_accuracy: 0.4634\n",
      "Epoch 134/300\n",
      "27/27 [==============================] - 0s 8ms/step - loss: 0.5579 - accuracy: 0.6710 - val_loss: 0.8211 - val_accuracy: 0.4756\n",
      "Epoch 135/300\n",
      "27/27 [==============================] - 0s 8ms/step - loss: 0.5430 - accuracy: 0.6985 - val_loss: 0.8191 - val_accuracy: 0.4634\n",
      "Epoch 136/300\n",
      "27/27 [==============================] - 0s 8ms/step - loss: 0.5431 - accuracy: 0.7020 - val_loss: 0.8261 - val_accuracy: 0.4756\n",
      "Epoch 137/300\n",
      "27/27 [==============================] - 0s 7ms/step - loss: 0.5383 - accuracy: 0.7080 - val_loss: 0.8080 - val_accuracy: 0.4805\n",
      "Epoch 138/300\n",
      "27/27 [==============================] - 0s 8ms/step - loss: 0.5353 - accuracy: 0.7092 - val_loss: 0.8306 - val_accuracy: 0.4561\n",
      "Epoch 139/300\n",
      "27/27 [==============================] - 0s 7ms/step - loss: 0.5238 - accuracy: 0.7139 - val_loss: 0.8386 - val_accuracy: 0.4634\n",
      "Epoch 140/300\n",
      "27/27 [==============================] - 0s 8ms/step - loss: 0.5295 - accuracy: 0.6949 - val_loss: 0.8308 - val_accuracy: 0.4732\n",
      "Epoch 141/300\n",
      "27/27 [==============================] - 0s 9ms/step - loss: 0.5326 - accuracy: 0.7139 - val_loss: 0.8431 - val_accuracy: 0.4805\n",
      "Epoch 142/300\n",
      "27/27 [==============================] - 0s 7ms/step - loss: 0.5255 - accuracy: 0.7235 - val_loss: 0.8382 - val_accuracy: 0.4634\n",
      "Epoch 143/300\n",
      "27/27 [==============================] - 0s 7ms/step - loss: 0.5209 - accuracy: 0.7151 - val_loss: 0.8508 - val_accuracy: 0.4610\n",
      "Epoch 144/300\n",
      "27/27 [==============================] - 0s 8ms/step - loss: 0.5266 - accuracy: 0.7151 - val_loss: 0.8496 - val_accuracy: 0.4805\n",
      "Epoch 145/300\n",
      "27/27 [==============================] - 0s 7ms/step - loss: 0.5162 - accuracy: 0.7235 - val_loss: 0.8414 - val_accuracy: 0.4902\n",
      "Epoch 146/300\n",
      "27/27 [==============================] - 0s 8ms/step - loss: 0.5070 - accuracy: 0.7235 - val_loss: 0.8452 - val_accuracy: 0.4756\n",
      "Epoch 147/300\n",
      "27/27 [==============================] - 0s 7ms/step - loss: 0.5095 - accuracy: 0.7139 - val_loss: 0.8465 - val_accuracy: 0.4805\n",
      "Epoch 148/300\n",
      "27/27 [==============================] - 0s 7ms/step - loss: 0.5169 - accuracy: 0.7223 - val_loss: 0.8627 - val_accuracy: 0.4732\n",
      "Epoch 149/300\n",
      "27/27 [==============================] - 0s 8ms/step - loss: 0.5163 - accuracy: 0.7342 - val_loss: 0.8478 - val_accuracy: 0.4707\n",
      "Epoch 150/300\n",
      "27/27 [==============================] - 0s 8ms/step - loss: 0.5185 - accuracy: 0.7175 - val_loss: 0.8567 - val_accuracy: 0.4805\n",
      "Epoch 151/300\n",
      "27/27 [==============================] - 0s 7ms/step - loss: 0.5045 - accuracy: 0.7259 - val_loss: 0.8612 - val_accuracy: 0.4780\n",
      "Epoch 152/300\n",
      "27/27 [==============================] - 0s 8ms/step - loss: 0.5010 - accuracy: 0.7318 - val_loss: 0.8480 - val_accuracy: 0.4829\n",
      "Epoch 153/300\n",
      "27/27 [==============================] - 0s 8ms/step - loss: 0.5077 - accuracy: 0.7282 - val_loss: 0.8659 - val_accuracy: 0.4902\n",
      "Epoch 154/300\n",
      "27/27 [==============================] - 0s 9ms/step - loss: 0.4998 - accuracy: 0.7414 - val_loss: 0.8919 - val_accuracy: 0.4854\n",
      "Epoch 155/300\n",
      "27/27 [==============================] - 0s 8ms/step - loss: 0.4877 - accuracy: 0.7461 - val_loss: 0.8782 - val_accuracy: 0.4902\n",
      "Epoch 156/300\n",
      "27/27 [==============================] - 0s 7ms/step - loss: 0.4895 - accuracy: 0.7580 - val_loss: 0.8906 - val_accuracy: 0.4805\n",
      "Epoch 157/300\n",
      "27/27 [==============================] - 0s 7ms/step - loss: 0.4866 - accuracy: 0.7485 - val_loss: 0.8868 - val_accuracy: 0.4878\n",
      "Epoch 158/300\n",
      "27/27 [==============================] - 0s 8ms/step - loss: 0.4750 - accuracy: 0.7652 - val_loss: 0.9020 - val_accuracy: 0.4854\n",
      "Epoch 159/300\n",
      "27/27 [==============================] - 0s 8ms/step - loss: 0.4839 - accuracy: 0.7509 - val_loss: 0.8915 - val_accuracy: 0.4756\n",
      "Epoch 160/300\n",
      "27/27 [==============================] - 0s 7ms/step - loss: 0.4809 - accuracy: 0.7616 - val_loss: 0.8897 - val_accuracy: 0.4878\n",
      "Epoch 161/300\n",
      "27/27 [==============================] - 0s 7ms/step - loss: 0.4752 - accuracy: 0.7592 - val_loss: 0.8976 - val_accuracy: 0.4902\n",
      "Epoch 162/300\n",
      "27/27 [==============================] - 0s 7ms/step - loss: 0.4736 - accuracy: 0.7580 - val_loss: 0.8995 - val_accuracy: 0.4634\n",
      "Epoch 163/300\n",
      "27/27 [==============================] - 0s 7ms/step - loss: 0.4759 - accuracy: 0.7545 - val_loss: 0.8863 - val_accuracy: 0.4829\n",
      "Epoch 164/300\n",
      "27/27 [==============================] - 0s 8ms/step - loss: 0.4718 - accuracy: 0.7521 - val_loss: 0.9006 - val_accuracy: 0.4756\n",
      "Epoch 165/300\n",
      "27/27 [==============================] - 0s 7ms/step - loss: 0.4700 - accuracy: 0.7592 - val_loss: 0.9008 - val_accuracy: 0.4927\n",
      "Epoch 166/300\n",
      "27/27 [==============================] - 0s 7ms/step - loss: 0.4775 - accuracy: 0.7604 - val_loss: 0.9232 - val_accuracy: 0.4854\n",
      "Epoch 167/300\n",
      "27/27 [==============================] - 0s 7ms/step - loss: 0.4568 - accuracy: 0.7783 - val_loss: 0.8864 - val_accuracy: 0.4805\n",
      "Epoch 168/300\n",
      "27/27 [==============================] - 0s 8ms/step - loss: 0.4688 - accuracy: 0.7592 - val_loss: 0.9014 - val_accuracy: 0.4976\n",
      "Epoch 169/300\n",
      "27/27 [==============================] - 0s 7ms/step - loss: 0.4626 - accuracy: 0.7569 - val_loss: 0.8940 - val_accuracy: 0.4878\n",
      "Epoch 170/300\n",
      "27/27 [==============================] - 0s 7ms/step - loss: 0.4574 - accuracy: 0.7712 - val_loss: 0.9156 - val_accuracy: 0.4854\n",
      "Epoch 171/300\n",
      "27/27 [==============================] - 0s 7ms/step - loss: 0.4610 - accuracy: 0.7652 - val_loss: 0.9043 - val_accuracy: 0.4878\n",
      "Epoch 172/300\n",
      "27/27 [==============================] - 0s 8ms/step - loss: 0.4702 - accuracy: 0.7652 - val_loss: 0.9198 - val_accuracy: 0.4854\n",
      "Epoch 173/300\n",
      "27/27 [==============================] - 0s 8ms/step - loss: 0.4407 - accuracy: 0.7819 - val_loss: 0.9056 - val_accuracy: 0.4902\n",
      "Epoch 174/300\n",
      "27/27 [==============================] - 0s 8ms/step - loss: 0.4480 - accuracy: 0.7735 - val_loss: 0.9147 - val_accuracy: 0.4854\n",
      "Epoch 175/300\n",
      "27/27 [==============================] - 0s 7ms/step - loss: 0.4484 - accuracy: 0.7795 - val_loss: 0.9245 - val_accuracy: 0.4780\n",
      "Epoch 176/300\n",
      "27/27 [==============================] - 0s 7ms/step - loss: 0.4482 - accuracy: 0.7807 - val_loss: 0.9117 - val_accuracy: 0.4854\n",
      "Epoch 177/300\n",
      "27/27 [==============================] - 0s 7ms/step - loss: 0.4410 - accuracy: 0.7890 - val_loss: 0.9316 - val_accuracy: 0.4902\n",
      "Epoch 178/300\n",
      "27/27 [==============================] - 0s 8ms/step - loss: 0.4390 - accuracy: 0.7902 - val_loss: 0.9267 - val_accuracy: 0.5073\n",
      "Epoch 179/300\n",
      "27/27 [==============================] - 0s 9ms/step - loss: 0.4203 - accuracy: 0.7926 - val_loss: 0.9364 - val_accuracy: 0.4878\n",
      "Epoch 180/300\n",
      "27/27 [==============================] - 0s 9ms/step - loss: 0.4250 - accuracy: 0.7938 - val_loss: 0.9474 - val_accuracy: 0.5000\n",
      "Epoch 181/300\n",
      "27/27 [==============================] - 0s 9ms/step - loss: 0.4230 - accuracy: 0.7938 - val_loss: 0.9329 - val_accuracy: 0.4976\n",
      "Epoch 182/300\n",
      "27/27 [==============================] - 0s 8ms/step - loss: 0.4156 - accuracy: 0.8093 - val_loss: 0.9496 - val_accuracy: 0.4854\n",
      "Epoch 183/300\n",
      "27/27 [==============================] - 0s 9ms/step - loss: 0.4211 - accuracy: 0.7974 - val_loss: 0.9638 - val_accuracy: 0.4902\n",
      "Epoch 184/300\n",
      "27/27 [==============================] - 0s 9ms/step - loss: 0.4184 - accuracy: 0.7950 - val_loss: 0.9796 - val_accuracy: 0.4878\n",
      "Epoch 185/300\n",
      "27/27 [==============================] - 0s 9ms/step - loss: 0.4186 - accuracy: 0.8033 - val_loss: 0.9643 - val_accuracy: 0.4927\n",
      "Epoch 186/300\n",
      "27/27 [==============================] - 0s 9ms/step - loss: 0.4171 - accuracy: 0.8069 - val_loss: 0.9583 - val_accuracy: 0.5000\n",
      "Epoch 187/300\n",
      "27/27 [==============================] - 0s 8ms/step - loss: 0.4216 - accuracy: 0.7878 - val_loss: 0.9864 - val_accuracy: 0.4805\n",
      "Epoch 188/300\n",
      "27/27 [==============================] - 0s 7ms/step - loss: 0.4050 - accuracy: 0.7986 - val_loss: 0.9451 - val_accuracy: 0.5122\n",
      "Epoch 189/300\n",
      "27/27 [==============================] - 0s 7ms/step - loss: 0.4012 - accuracy: 0.8093 - val_loss: 1.0052 - val_accuracy: 0.4707\n",
      "Epoch 190/300\n",
      "27/27 [==============================] - 0s 7ms/step - loss: 0.4004 - accuracy: 0.8129 - val_loss: 0.9702 - val_accuracy: 0.5073\n",
      "Epoch 191/300\n",
      "27/27 [==============================] - 0s 7ms/step - loss: 0.3864 - accuracy: 0.8200 - val_loss: 0.9978 - val_accuracy: 0.4756\n",
      "Epoch 192/300\n",
      "27/27 [==============================] - 0s 9ms/step - loss: 0.3923 - accuracy: 0.8069 - val_loss: 0.9787 - val_accuracy: 0.4951\n",
      "Epoch 193/300\n",
      "27/27 [==============================] - 0s 9ms/step - loss: 0.3991 - accuracy: 0.7998 - val_loss: 0.9956 - val_accuracy: 0.4976\n",
      "Epoch 194/300\n",
      "27/27 [==============================] - 0s 8ms/step - loss: 0.4072 - accuracy: 0.7974 - val_loss: 1.0001 - val_accuracy: 0.4951\n",
      "Epoch 195/300\n",
      "27/27 [==============================] - 0s 7ms/step - loss: 0.4003 - accuracy: 0.8141 - val_loss: 1.0081 - val_accuracy: 0.4780\n",
      "Epoch 196/300\n",
      "27/27 [==============================] - 0s 8ms/step - loss: 0.3932 - accuracy: 0.8236 - val_loss: 1.0101 - val_accuracy: 0.4878\n",
      "Epoch 197/300\n",
      "27/27 [==============================] - 0s 8ms/step - loss: 0.3856 - accuracy: 0.8188 - val_loss: 1.0372 - val_accuracy: 0.4707\n",
      "Epoch 198/300\n",
      "27/27 [==============================] - 0s 7ms/step - loss: 0.3732 - accuracy: 0.8308 - val_loss: 1.0090 - val_accuracy: 0.4927\n",
      "Epoch 199/300\n",
      "27/27 [==============================] - 0s 7ms/step - loss: 0.3804 - accuracy: 0.8272 - val_loss: 1.0067 - val_accuracy: 0.4854\n",
      "Epoch 200/300\n",
      "27/27 [==============================] - 0s 8ms/step - loss: 0.3625 - accuracy: 0.8308 - val_loss: 1.0251 - val_accuracy: 0.5000\n",
      "Epoch 201/300\n",
      "27/27 [==============================] - 0s 8ms/step - loss: 0.3612 - accuracy: 0.8200 - val_loss: 1.0384 - val_accuracy: 0.4854\n",
      "Epoch 202/300\n",
      "27/27 [==============================] - 0s 8ms/step - loss: 0.3653 - accuracy: 0.8284 - val_loss: 0.9962 - val_accuracy: 0.4976\n",
      "Epoch 203/300\n",
      "27/27 [==============================] - 0s 8ms/step - loss: 0.3730 - accuracy: 0.8284 - val_loss: 1.0483 - val_accuracy: 0.4829\n",
      "Epoch 204/300\n",
      "27/27 [==============================] - 0s 8ms/step - loss: 0.3527 - accuracy: 0.8319 - val_loss: 1.0349 - val_accuracy: 0.4951\n",
      "Epoch 205/300\n",
      "27/27 [==============================] - 0s 8ms/step - loss: 0.3509 - accuracy: 0.8474 - val_loss: 1.0697 - val_accuracy: 0.4902\n",
      "Epoch 206/300\n",
      "27/27 [==============================] - 0s 7ms/step - loss: 0.3440 - accuracy: 0.8546 - val_loss: 1.0343 - val_accuracy: 0.5000\n",
      "Epoch 207/300\n",
      "27/27 [==============================] - 0s 7ms/step - loss: 0.3385 - accuracy: 0.8462 - val_loss: 1.0685 - val_accuracy: 0.4854\n",
      "Epoch 208/300\n",
      "27/27 [==============================] - 0s 7ms/step - loss: 0.3421 - accuracy: 0.8510 - val_loss: 1.0897 - val_accuracy: 0.4756\n",
      "Epoch 209/300\n",
      "27/27 [==============================] - 0s 8ms/step - loss: 0.3446 - accuracy: 0.8582 - val_loss: 1.0801 - val_accuracy: 0.4854\n",
      "Epoch 210/300\n",
      "27/27 [==============================] - 0s 7ms/step - loss: 0.3389 - accuracy: 0.8558 - val_loss: 1.0649 - val_accuracy: 0.4951\n",
      "Epoch 211/300\n",
      "27/27 [==============================] - 0s 7ms/step - loss: 0.3414 - accuracy: 0.8474 - val_loss: 1.0745 - val_accuracy: 0.4756\n",
      "Epoch 212/300\n",
      "27/27 [==============================] - 0s 7ms/step - loss: 0.3621 - accuracy: 0.8331 - val_loss: 1.0885 - val_accuracy: 0.5000\n",
      "Epoch 213/300\n",
      "27/27 [==============================] - 0s 7ms/step - loss: 0.3480 - accuracy: 0.8451 - val_loss: 1.0691 - val_accuracy: 0.4878\n",
      "Epoch 214/300\n",
      "27/27 [==============================] - 0s 8ms/step - loss: 0.3467 - accuracy: 0.8462 - val_loss: 1.0680 - val_accuracy: 0.4976\n",
      "Epoch 215/300\n",
      "27/27 [==============================] - 0s 9ms/step - loss: 0.3391 - accuracy: 0.8534 - val_loss: 1.0420 - val_accuracy: 0.4780\n",
      "Epoch 216/300\n",
      "27/27 [==============================] - 0s 9ms/step - loss: 0.3414 - accuracy: 0.8415 - val_loss: 1.0885 - val_accuracy: 0.4951\n",
      "Epoch 217/300\n",
      "27/27 [==============================] - 0s 7ms/step - loss: 0.3167 - accuracy: 0.8605 - val_loss: 1.1220 - val_accuracy: 0.4732\n",
      "Epoch 218/300\n",
      "27/27 [==============================] - 0s 8ms/step - loss: 0.3044 - accuracy: 0.8701 - val_loss: 1.0805 - val_accuracy: 0.4878\n",
      "Epoch 219/300\n",
      "27/27 [==============================] - 0s 7ms/step - loss: 0.3035 - accuracy: 0.8737 - val_loss: 1.1230 - val_accuracy: 0.4829\n",
      "Epoch 220/300\n",
      "27/27 [==============================] - 0s 7ms/step - loss: 0.2981 - accuracy: 0.8713 - val_loss: 1.1281 - val_accuracy: 0.4951\n",
      "Epoch 221/300\n",
      "27/27 [==============================] - 0s 7ms/step - loss: 0.2990 - accuracy: 0.8784 - val_loss: 1.1439 - val_accuracy: 0.4927\n",
      "Epoch 222/300\n",
      "27/27 [==============================] - 0s 8ms/step - loss: 0.2976 - accuracy: 0.8772 - val_loss: 1.1405 - val_accuracy: 0.4829\n",
      "Epoch 223/300\n",
      "27/27 [==============================] - 0s 8ms/step - loss: 0.2987 - accuracy: 0.8725 - val_loss: 1.1083 - val_accuracy: 0.4976\n",
      "Epoch 224/300\n",
      "27/27 [==============================] - 0s 8ms/step - loss: 0.3010 - accuracy: 0.8713 - val_loss: 1.1297 - val_accuracy: 0.4878\n",
      "Epoch 225/300\n",
      "27/27 [==============================] - 0s 7ms/step - loss: 0.3052 - accuracy: 0.8749 - val_loss: 1.1319 - val_accuracy: 0.4951\n",
      "Epoch 226/300\n",
      "27/27 [==============================] - 0s 7ms/step - loss: 0.2932 - accuracy: 0.8772 - val_loss: 1.1845 - val_accuracy: 0.4854\n",
      "Epoch 227/300\n",
      "27/27 [==============================] - 0s 8ms/step - loss: 0.2855 - accuracy: 0.8927 - val_loss: 1.1429 - val_accuracy: 0.4854\n",
      "Epoch 228/300\n",
      "27/27 [==============================] - 0s 8ms/step - loss: 0.2820 - accuracy: 0.8808 - val_loss: 1.2306 - val_accuracy: 0.4634\n",
      "Epoch 229/300\n",
      "27/27 [==============================] - 0s 7ms/step - loss: 0.2787 - accuracy: 0.8784 - val_loss: 1.1231 - val_accuracy: 0.5049\n",
      "Epoch 230/300\n",
      "27/27 [==============================] - 0s 7ms/step - loss: 0.2735 - accuracy: 0.8892 - val_loss: 1.1553 - val_accuracy: 0.4951\n",
      "Epoch 231/300\n",
      "27/27 [==============================] - 0s 8ms/step - loss: 0.2730 - accuracy: 0.8915 - val_loss: 1.2173 - val_accuracy: 0.4805\n",
      "Epoch 232/300\n",
      "27/27 [==============================] - 0s 7ms/step - loss: 0.2610 - accuracy: 0.8927 - val_loss: 1.1930 - val_accuracy: 0.4951\n",
      "Epoch 233/300\n",
      "27/27 [==============================] - 0s 7ms/step - loss: 0.2615 - accuracy: 0.8915 - val_loss: 1.1974 - val_accuracy: 0.4780\n",
      "Epoch 234/300\n",
      "27/27 [==============================] - 0s 7ms/step - loss: 0.2670 - accuracy: 0.8820 - val_loss: 1.2261 - val_accuracy: 0.4854\n",
      "Epoch 235/300\n",
      "27/27 [==============================] - 0s 7ms/step - loss: 0.2711 - accuracy: 0.8892 - val_loss: 1.2004 - val_accuracy: 0.4805\n",
      "Epoch 236/300\n",
      "27/27 [==============================] - 0s 9ms/step - loss: 0.2679 - accuracy: 0.8999 - val_loss: 1.2028 - val_accuracy: 0.5098\n",
      "Epoch 237/300\n",
      "27/27 [==============================] - 0s 7ms/step - loss: 0.2671 - accuracy: 0.8856 - val_loss: 1.2031 - val_accuracy: 0.5000\n",
      "Epoch 238/300\n",
      "27/27 [==============================] - 0s 7ms/step - loss: 0.2617 - accuracy: 0.8927 - val_loss: 1.2291 - val_accuracy: 0.4902\n",
      "Epoch 239/300\n",
      "27/27 [==============================] - 0s 8ms/step - loss: 0.2551 - accuracy: 0.8963 - val_loss: 1.1616 - val_accuracy: 0.4829\n",
      "Epoch 240/300\n",
      "27/27 [==============================] - 0s 8ms/step - loss: 0.2507 - accuracy: 0.8975 - val_loss: 1.2271 - val_accuracy: 0.4878\n",
      "Epoch 241/300\n",
      "27/27 [==============================] - 0s 7ms/step - loss: 0.2474 - accuracy: 0.8963 - val_loss: 1.2250 - val_accuracy: 0.4829\n",
      "Epoch 242/300\n",
      "27/27 [==============================] - 0s 7ms/step - loss: 0.2441 - accuracy: 0.8999 - val_loss: 1.2266 - val_accuracy: 0.5024\n",
      "Epoch 243/300\n",
      "27/27 [==============================] - 0s 8ms/step - loss: 0.2398 - accuracy: 0.8999 - val_loss: 1.2588 - val_accuracy: 0.4732\n",
      "Epoch 244/300\n",
      "27/27 [==============================] - 0s 8ms/step - loss: 0.2375 - accuracy: 0.9058 - val_loss: 1.2426 - val_accuracy: 0.4902\n",
      "Epoch 245/300\n",
      "27/27 [==============================] - 0s 7ms/step - loss: 0.2396 - accuracy: 0.8987 - val_loss: 1.2531 - val_accuracy: 0.4976\n",
      "Epoch 246/300\n",
      "27/27 [==============================] - 0s 7ms/step - loss: 0.2421 - accuracy: 0.9106 - val_loss: 1.2803 - val_accuracy: 0.4805\n",
      "Epoch 247/300\n",
      "27/27 [==============================] - 0s 7ms/step - loss: 0.2404 - accuracy: 0.9035 - val_loss: 1.2618 - val_accuracy: 0.5073\n",
      "Epoch 248/300\n",
      "27/27 [==============================] - 0s 8ms/step - loss: 0.2428 - accuracy: 0.9106 - val_loss: 1.3560 - val_accuracy: 0.4756\n",
      "Epoch 249/300\n",
      "27/27 [==============================] - 0s 7ms/step - loss: 0.2354 - accuracy: 0.9106 - val_loss: 1.2577 - val_accuracy: 0.4976\n",
      "Epoch 250/300\n",
      "27/27 [==============================] - 0s 7ms/step - loss: 0.2296 - accuracy: 0.9058 - val_loss: 1.3204 - val_accuracy: 0.4854\n",
      "Epoch 251/300\n",
      "27/27 [==============================] - 0s 7ms/step - loss: 0.2272 - accuracy: 0.9106 - val_loss: 1.2576 - val_accuracy: 0.5220\n",
      "Epoch 252/300\n",
      "27/27 [==============================] - 0s 8ms/step - loss: 0.2200 - accuracy: 0.9142 - val_loss: 1.3646 - val_accuracy: 0.4951\n",
      "Epoch 253/300\n",
      "27/27 [==============================] - 0s 8ms/step - loss: 0.2326 - accuracy: 0.9178 - val_loss: 1.3201 - val_accuracy: 0.5098\n",
      "Epoch 254/300\n",
      "27/27 [==============================] - 0s 7ms/step - loss: 0.2206 - accuracy: 0.9094 - val_loss: 1.2781 - val_accuracy: 0.5073\n",
      "Epoch 255/300\n",
      "27/27 [==============================] - 0s 7ms/step - loss: 0.2097 - accuracy: 0.9190 - val_loss: 1.3568 - val_accuracy: 0.4902\n",
      "Epoch 256/300\n",
      "27/27 [==============================] - 0s 7ms/step - loss: 0.2077 - accuracy: 0.9213 - val_loss: 1.3895 - val_accuracy: 0.4927\n",
      "Epoch 257/300\n",
      "27/27 [==============================] - 0s 8ms/step - loss: 0.2170 - accuracy: 0.9118 - val_loss: 1.3709 - val_accuracy: 0.5171\n",
      "Epoch 258/300\n",
      "27/27 [==============================] - 0s 7ms/step - loss: 0.2445 - accuracy: 0.8975 - val_loss: 1.3226 - val_accuracy: 0.4829\n",
      "Epoch 259/300\n",
      "27/27 [==============================] - 0s 8ms/step - loss: 0.2179 - accuracy: 0.9237 - val_loss: 1.3207 - val_accuracy: 0.5049\n",
      "Epoch 260/300\n",
      "27/27 [==============================] - 0s 7ms/step - loss: 0.2252 - accuracy: 0.9094 - val_loss: 1.3403 - val_accuracy: 0.4927\n",
      "Epoch 261/300\n",
      "27/27 [==============================] - 0s 8ms/step - loss: 0.2196 - accuracy: 0.9154 - val_loss: 1.3072 - val_accuracy: 0.5122\n",
      "Epoch 262/300\n",
      "27/27 [==============================] - 0s 7ms/step - loss: 0.2000 - accuracy: 0.9285 - val_loss: 1.3428 - val_accuracy: 0.5000\n",
      "Epoch 263/300\n",
      "27/27 [==============================] - 0s 8ms/step - loss: 0.1985 - accuracy: 0.9201 - val_loss: 1.3722 - val_accuracy: 0.5000\n",
      "Epoch 264/300\n",
      "27/27 [==============================] - 0s 7ms/step - loss: 0.2071 - accuracy: 0.9297 - val_loss: 1.3766 - val_accuracy: 0.4902\n",
      "Epoch 265/300\n",
      "27/27 [==============================] - 0s 8ms/step - loss: 0.1885 - accuracy: 0.9309 - val_loss: 1.3169 - val_accuracy: 0.5195\n",
      "Epoch 266/300\n",
      "27/27 [==============================] - 0s 7ms/step - loss: 0.1915 - accuracy: 0.9249 - val_loss: 1.2738 - val_accuracy: 0.5293\n",
      "Epoch 267/300\n",
      "27/27 [==============================] - 0s 8ms/step - loss: 0.1952 - accuracy: 0.9285 - val_loss: 1.4470 - val_accuracy: 0.4951\n",
      "Epoch 268/300\n",
      "27/27 [==============================] - 0s 7ms/step - loss: 0.1961 - accuracy: 0.9213 - val_loss: 1.4260 - val_accuracy: 0.4976\n",
      "Epoch 269/300\n",
      "27/27 [==============================] - 0s 8ms/step - loss: 0.1931 - accuracy: 0.9273 - val_loss: 1.3993 - val_accuracy: 0.4976\n",
      "Epoch 270/300\n",
      "27/27 [==============================] - 0s 8ms/step - loss: 0.1879 - accuracy: 0.9297 - val_loss: 1.3674 - val_accuracy: 0.4976\n",
      "Epoch 271/300\n",
      "27/27 [==============================] - 0s 8ms/step - loss: 0.1885 - accuracy: 0.9309 - val_loss: 1.4100 - val_accuracy: 0.5122\n",
      "Epoch 272/300\n",
      "27/27 [==============================] - 0s 8ms/step - loss: 0.1817 - accuracy: 0.9285 - val_loss: 1.4406 - val_accuracy: 0.4951\n",
      "Epoch 273/300\n",
      "27/27 [==============================] - 0s 9ms/step - loss: 0.1802 - accuracy: 0.9321 - val_loss: 1.4153 - val_accuracy: 0.4878\n",
      "Epoch 274/300\n",
      "27/27 [==============================] - 0s 8ms/step - loss: 0.1819 - accuracy: 0.9333 - val_loss: 1.4198 - val_accuracy: 0.5049\n",
      "Epoch 275/300\n",
      "27/27 [==============================] - 0s 8ms/step - loss: 0.1760 - accuracy: 0.9416 - val_loss: 1.4814 - val_accuracy: 0.4927\n",
      "Epoch 276/300\n",
      "27/27 [==============================] - 0s 9ms/step - loss: 0.1832 - accuracy: 0.9249 - val_loss: 1.4499 - val_accuracy: 0.4732\n",
      "Epoch 277/300\n",
      "27/27 [==============================] - 0s 8ms/step - loss: 0.1905 - accuracy: 0.9380 - val_loss: 1.4542 - val_accuracy: 0.5024\n",
      "Epoch 278/300\n",
      "27/27 [==============================] - 0s 8ms/step - loss: 0.1860 - accuracy: 0.9249 - val_loss: 1.4875 - val_accuracy: 0.5171\n",
      "Epoch 279/300\n",
      "27/27 [==============================] - 0s 7ms/step - loss: 0.1706 - accuracy: 0.9428 - val_loss: 1.4941 - val_accuracy: 0.4756\n",
      "Epoch 280/300\n",
      "27/27 [==============================] - 0s 8ms/step - loss: 0.1686 - accuracy: 0.9404 - val_loss: 1.4699 - val_accuracy: 0.4951\n",
      "Epoch 281/300\n",
      "27/27 [==============================] - 0s 7ms/step - loss: 0.1662 - accuracy: 0.9428 - val_loss: 1.3907 - val_accuracy: 0.5146\n",
      "Epoch 282/300\n",
      "27/27 [==============================] - 0s 7ms/step - loss: 0.1723 - accuracy: 0.9297 - val_loss: 1.4463 - val_accuracy: 0.4976\n",
      "Epoch 283/300\n",
      "27/27 [==============================] - 0s 7ms/step - loss: 0.1664 - accuracy: 0.9404 - val_loss: 1.5138 - val_accuracy: 0.4878\n",
      "Epoch 284/300\n",
      "27/27 [==============================] - 0s 7ms/step - loss: 0.1740 - accuracy: 0.9309 - val_loss: 1.5021 - val_accuracy: 0.4951\n",
      "Epoch 285/300\n",
      "27/27 [==============================] - 0s 8ms/step - loss: 0.1726 - accuracy: 0.9368 - val_loss: 1.5230 - val_accuracy: 0.5024\n",
      "Epoch 286/300\n",
      "27/27 [==============================] - 0s 7ms/step - loss: 0.1665 - accuracy: 0.9416 - val_loss: 1.4780 - val_accuracy: 0.5146\n",
      "Epoch 287/300\n",
      "27/27 [==============================] - 0s 7ms/step - loss: 0.1634 - accuracy: 0.9333 - val_loss: 1.5132 - val_accuracy: 0.5049\n",
      "Epoch 288/300\n",
      "27/27 [==============================] - 0s 8ms/step - loss: 0.1713 - accuracy: 0.9344 - val_loss: 1.4823 - val_accuracy: 0.5317\n",
      "Epoch 289/300\n",
      "27/27 [==============================] - 0s 8ms/step - loss: 0.1736 - accuracy: 0.9273 - val_loss: 1.4412 - val_accuracy: 0.5244\n",
      "Epoch 290/300\n",
      "27/27 [==============================] - 0s 7ms/step - loss: 0.1596 - accuracy: 0.9428 - val_loss: 1.5229 - val_accuracy: 0.5000\n",
      "Epoch 291/300\n",
      "27/27 [==============================] - 0s 7ms/step - loss: 0.1666 - accuracy: 0.9452 - val_loss: 1.5167 - val_accuracy: 0.5000\n",
      "Epoch 292/300\n",
      "27/27 [==============================] - 0s 8ms/step - loss: 0.1804 - accuracy: 0.9309 - val_loss: 1.4576 - val_accuracy: 0.5073\n",
      "Epoch 293/300\n",
      "27/27 [==============================] - 0s 7ms/step - loss: 0.2001 - accuracy: 0.9237 - val_loss: 1.5029 - val_accuracy: 0.5098\n",
      "Epoch 294/300\n",
      "27/27 [==============================] - 0s 8ms/step - loss: 0.2019 - accuracy: 0.9285 - val_loss: 1.5225 - val_accuracy: 0.5049\n",
      "Epoch 295/300\n",
      "27/27 [==============================] - 0s 8ms/step - loss: 0.1767 - accuracy: 0.9356 - val_loss: 1.5559 - val_accuracy: 0.4927\n",
      "Epoch 296/300\n",
      "27/27 [==============================] - 0s 7ms/step - loss: 0.1479 - accuracy: 0.9547 - val_loss: 1.5288 - val_accuracy: 0.5049\n",
      "Epoch 297/300\n",
      "27/27 [==============================] - 0s 8ms/step - loss: 0.1396 - accuracy: 0.9523 - val_loss: 1.6208 - val_accuracy: 0.4902\n",
      "Epoch 298/300\n",
      "27/27 [==============================] - 0s 7ms/step - loss: 0.1540 - accuracy: 0.9440 - val_loss: 1.5754 - val_accuracy: 0.5024\n",
      "Epoch 299/300\n",
      "27/27 [==============================] - 0s 8ms/step - loss: 0.1686 - accuracy: 0.9261 - val_loss: 1.4050 - val_accuracy: 0.5146\n",
      "Epoch 300/300\n",
      "27/27 [==============================] - 0s 8ms/step - loss: 0.1496 - accuracy: 0.9535 - val_loss: 1.4315 - val_accuracy: 0.5268\n"
     ]
    }
   ],
   "source": [
    "# train the RNN\n",
    "r = model.fit(\n",
    "    X_train, Y_train,\n",
    "    batch_size=32,\n",
    "    epochs=300,\n",
    "    validation_data=(X_test, Y_test),\n",
    ")"
   ]
  },
  {
   "cell_type": "code",
   "execution_count": 0,
   "metadata": {
    "colab": {
     "base_uri": "https://localhost:8080/",
     "height": 265
    },
    "colab_type": "code",
    "id": "34IV0Y6Hhvny",
    "outputId": "dd5029c1-f6d4-4f5a-d195-e69f8b6a7173"
   },
   "outputs": [
    {
     "data": {
      "image/png": "[encoded data removed]",
      "text/plain": [
       "<Figure size 432x288 with 1 Axes>"
      ]
     },
     "metadata": {
      "needs_background": "light",
      "tags": []
     },
     "output_type": "display_data"
    }
   ],
   "source": [
    "# plot the loss\n",
    "plt.plot(r.history['loss'], label='loss')\n",
    "plt.plot(r.history['val_loss'], label='val_loss')\n",
    "plt.legend()\n",
    "plt.show()"
   ]
  },
  {
   "cell_type": "code",
   "execution_count": 0,
   "metadata": {
    "colab": {
     "base_uri": "https://localhost:8080/",
     "height": 265
    },
    "colab_type": "code",
    "id": "63A_TQskh_O1",
    "outputId": "09da96ca-da9d-4c16-ae66-524b37eae619"
   },
   "outputs": [
    {
     "data": {
      "image/png": "[encoded data removed]",
      "text/plain": [
       "<Figure size 432x288 with 1 Axes>"
      ]
     },
     "metadata": {
      "needs_background": "light",
      "tags": []
     },
     "output_type": "display_data"
    }
   ],
   "source": [
    "# plot the loss\n",
    "plt.plot(r.history['accuracy'], label='acc')\n",
    "plt.plot(r.history['val_accuracy'], label='val_acc')\n",
    "plt.legend()\n",
    "plt.show()"
   ]
  },
  {
   "cell_type": "code",
   "execution_count": 0,
   "metadata": {
    "colab": {},
    "colab_type": "code",
    "id": "Vf8XT3YKiDHo"
   },
   "outputs": [],
   "source": []
  }
 ],
 "metadata": {
  "colab": {
   "collapsed_sections": [],
   "name": "TF2.0 Stock Returns.ipynb",
   "provenance": []
  },
  "kernelspec": {
   "display_name": "Python 3",
   "language": "python",
   "name": "python3"
  },
  "language_info": {
   "codemirror_mode": {
    "name": "ipython",
    "version": 3
   },
   "file_extension": ".py",
   "mimetype": "text/x-python",
   "name": "python",
   "nbconvert_exporter": "python",
   "pygments_lexer": "ipython3",
   "version": "3.7.6"
  }
 },
 "nbformat": 4,
 "nbformat_minor": 1
}
